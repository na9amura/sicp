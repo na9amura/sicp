{
 "cells": [
  {
   "cell_type": "code",
   "execution_count": 23,
   "metadata": {},
   "outputs": [],
   "source": [
    "(define pi 3.14)"
   ]
  },
  {
   "cell_type": "code",
   "execution_count": 24,
   "metadata": {},
   "outputs": [],
   "source": [
    "(define radius 10)"
   ]
  },
  {
   "cell_type": "code",
   "execution_count": 25,
   "metadata": {},
   "outputs": [
    {
     "data": {
      "text/plain": [
       "314.0"
      ]
     },
     "execution_count": 25,
     "metadata": {},
     "output_type": "execute_result"
    }
   ],
   "source": [
    "(* pi (* radius radius))"
   ]
  },
  {
   "cell_type": "markdown",
   "metadata": {},
   "source": [
    "### 1.1.7 例: ニュートン法による平方根"
   ]
  },
  {
   "cell_type": "code",
   "execution_count": 26,
   "metadata": {},
   "outputs": [],
   "source": [
    "(define (sqrt-iter guess x)\n",
    "  (if (good-enough? guess x)\n",
    "      guess\n",
    "      (sqrt-iter (improve guess x) x)))"
   ]
  },
  {
   "cell_type": "code",
   "execution_count": 27,
   "metadata": {},
   "outputs": [],
   "source": [
    "(define (improve guess x)\n",
    "  (average guess (/ x guess)))"
   ]
  },
  {
   "cell_type": "code",
   "execution_count": 28,
   "metadata": {},
   "outputs": [],
   "source": [
    "(define (average x y) (/ (+ x y) 2))"
   ]
  },
  {
   "cell_type": "code",
   "execution_count": 29,
   "metadata": {},
   "outputs": [],
   "source": [
    "(define (good-enough? guess x)\n",
    "  (< (abs (- (square guess) x)) 0.001))"
   ]
  },
  {
   "cell_type": "code",
   "execution_count": 30,
   "metadata": {},
   "outputs": [],
   "source": [
    "(define (square x) (* x x))"
   ]
  },
  {
   "cell_type": "code",
   "execution_count": 31,
   "metadata": {},
   "outputs": [],
   "source": [
    "(define (srqt x)\n",
    "  (sqrt-iter 1.0 x))"
   ]
  },
  {
   "cell_type": "code",
   "execution_count": 32,
   "metadata": {},
   "outputs": [
    {
     "data": {
      "text/plain": [
       "1.4142156862745097"
      ]
     },
     "execution_count": 32,
     "metadata": {},
     "output_type": "execute_result"
    }
   ],
   "source": [
    "(srqt 2)"
   ]
  },
  {
   "cell_type": "code",
   "execution_count": 33,
   "metadata": {},
   "outputs": [
    {
     "data": {
      "text/plain": [
       "1.7320508075688772"
      ]
     },
     "execution_count": 33,
     "metadata": {},
     "output_type": "execute_result"
    }
   ],
   "source": [
    "(sqrt 3)"
   ]
  },
  {
   "cell_type": "code",
   "execution_count": 34,
   "metadata": {},
   "outputs": [
    {
     "data": {
      "text/plain": [
       "3.0"
      ]
     },
     "execution_count": 34,
     "metadata": {},
     "output_type": "execute_result"
    }
   ],
   "source": [
    "(sqrt 9)"
   ]
  },
  {
   "cell_type": "markdown",
   "metadata": {},
   "source": [
    "## 練習問題 1.6"
   ]
  },
  {
   "cell_type": "code",
   "execution_count": 35,
   "metadata": {},
   "outputs": [],
   "source": [
    "(define (new-if predicate then-clause else-clause)\n",
    "  (cond (predicate then-clause)\n",
    "        (else else-clause)))"
   ]
  },
  {
   "cell_type": "code",
   "execution_count": 36,
   "metadata": {},
   "outputs": [],
   "source": [
    "(define (sqrt-iter-mod guess x)\n",
    "  (new-if (good-enough? guess x)\n",
    "      guess\n",
    "      (sqrt-iter-mod (improve guess x) x)))\n",
    "(define (srqt-mod x)\n",
    "  (sqrt-iter-mod 1.0 x))"
   ]
  },
  {
   "cell_type": "code",
   "execution_count": 37,
   "metadata": {},
   "outputs": [
    {
     "name": "stderr",
     "output_type": "stream",
     "text": [
      "\u001b[0;31m\n",
      "Traceback (most recent call last):\n",
      "  File \"In [37]\", line 1, col 4\n",
      "RunTimeError: unbound variable 'This'\n",
      "\n",
      "\u001b[0m"
     ]
    }
   ],
   "source": [
    "// This cause infinite loop\n",
    "// (srqt-mod 3)"
   ]
  },
  {
   "cell_type": "markdown",
   "metadata": {},
   "source": [
    "`(new-if (good-enough? guess x) guess (sqrt-iter-mod (improve guess x) x))` を呼び出す時点で `else-clause` の値を算出するために `(sqrt-iter-mod (improve guess x) x)` が評価される。そのため呼び出しごとに必ず再起処理が発生して無限に呼び出しスタックが深くなる。よって計算が終了しない。"
   ]
  },
  {
   "cell_type": "markdown",
   "metadata": {},
   "source": [
    "## 練習問題 1.7"
   ]
  },
  {
   "cell_type": "code",
   "execution_count": null,
   "metadata": {},
   "outputs": [],
   "source": []
  },
  {
   "cell_type": "markdown",
   "metadata": {},
   "source": [
    "## 練習問題 1.8"
   ]
  },
  {
   "cell_type": "code",
   "execution_count": 38,
   "metadata": {},
   "outputs": [],
   "source": [
    "(define (third-root-iter guess x)\n",
    "  (if (good-enough? guess x)\n",
    "      guess\n",
    "      (third-root-iter (improve-tr guess x) x)))"
   ]
  },
  {
   "cell_type": "code",
   "execution_count": 39,
   "metadata": {},
   "outputs": [],
   "source": [
    "(define (improve-tr guess x)\n",
    "  (display (format \"x: ~a, guess: ~a\\n\" guess x))\n",
    "  (/ \n",
    "    (+ \n",
    "      (/ x (square guess)) \n",
    "      (* guess 2))\n",
    "    3))"
   ]
  },
  {
   "cell_type": "code",
   "execution_count": 40,
   "metadata": {},
   "outputs": [],
   "source": [
    "(define (third-root x)\n",
    "  (third-root-iter 1.0 x))"
   ]
  },
  {
   "cell_type": "code",
   "execution_count": 41,
   "metadata": {},
   "outputs": [],
   "source": [
    "(define (third-power x) (* (* x x) x))\n",
    "\n",
    "(define (good-enough? guess x)\n",
    "  (< (abs (- (third-power guess) x)) 0.001))"
   ]
  },
  {
   "cell_type": "code",
   "execution_count": 42,
   "metadata": {},
   "outputs": [
    {
     "name": "stdout",
     "output_type": "stream",
     "text": [
      "x: 1.0, guess: 27.0\n",
      "x: 9.666666666666666, guess: 27.0\n",
      "x: 6.540758356453956, guess: 27.0\n",
      "x: 4.570876778578707, guess: 27.0\n",
      "x: 3.4780192333867963, guess: 27.0\n",
      "x: 3.0626891086275365, guess: 27.0\n",
      "x: 3.001274406506175, guess: 27.0\n"
     ]
    },
    {
     "data": {
      "text/plain": [
       "3.0000005410641766"
      ]
     },
     "execution_count": 42,
     "metadata": {},
     "output_type": "execute_result"
    }
   ],
   "source": [
    "(third-root 27.0)"
   ]
  },
  {
   "cell_type": "markdown",
   "metadata": {},
   "source": [
    "## 1.2 手続きとそれが生成するプロセス"
   ]
  },
  {
   "cell_type": "code",
   "execution_count": 43,
   "metadata": {},
   "outputs": [],
   "source": [
    "(define (factorial n)\n",
    "  (if (= n 1)\n",
    "    n\n",
    "    (* n (factorial (- n 1)))))"
   ]
  },
  {
   "cell_type": "code",
   "execution_count": 45,
   "metadata": {},
   "outputs": [
    {
     "data": {
      "text/plain": [
       "720"
      ]
     },
     "execution_count": 45,
     "metadata": {},
     "output_type": "execute_result"
    }
   ],
   "source": [
    "(factorial 6)"
   ]
  },
  {
   "cell_type": "markdown",
   "metadata": {},
   "source": [
    "この定義の場合、再起呼び出しはネストしていく\n",
    "```s\n",
    "(factorial 6)\n",
    "(* 6 (factorial 5))\n",
    "...\n",
    "(* 6 (* 5 (* 4 (* 3 (* 2 (factorial 1))))))\n",
    "(* 6 (* 5 (* 4 (* 3 (* 2 1)))))\n",
    "...\n",
    "(* 6 120)\n",
    "720\n",
    "```"
   ]
  },
  {
   "cell_type": "markdown",
   "metadata": {},
   "source": [
    "線型なプロセスで計算できるようにする\n",
    "```s\n",
    "(fact-iter acc counter max)\n",
    "```\n",
    "という関数を定義すると以下のようになる\n",
    "\n",
    "```s\n",
    "(factorial 6)\n",
    "(fact-iter 1 1 6)\n",
    "(fact-iter 1 2 6)\n",
    "(fact-iter 2 3 6)\n",
    "(fact-iter 6 4 6)\n",
    "...\n",
    "(fact-iter 720 7 6)\n",
    "```"
   ]
  },
  {
   "cell_type": "code",
   "execution_count": 49,
   "metadata": {},
   "outputs": [],
   "source": [
    "(define (factorial n)\n",
    "  ;;; n is max of counte. as it won't change, we don't need to pass to iter\n",
    "  (define (iter product counter)\n",
    "    (if (> counter n)\n",
    "      product\n",
    "      (iter (* counter product)\n",
    "            (+ counter 1))))\n",
    "  (iter 1 1)\n",
    ")"
   ]
  },
  {
   "cell_type": "code",
   "execution_count": 50,
   "metadata": {},
   "outputs": [
    {
     "data": {
      "text/plain": [
       "720"
      ]
     },
     "execution_count": 50,
     "metadata": {},
     "output_type": "execute_result"
    }
   ],
   "source": [
    "(factorial 6)"
   ]
  },
  {
   "cell_type": "markdown",
   "metadata": {},
   "source": [
    "- recursive process\n",
    "  - first example\n",
    "  - build up a chain of deferred operations, then contraction occurs\n",
    "  - linear recursive process\n",
    "    - chain grows linearly with N\n",
    "- iterative process\n",
    "  - second example\n",
    "  - process does not grow and shrink\n",
    "  - state is managed by state variables\n",
    "  - linear iterative process\n",
    "    - number of steps grows linearly with N"
   ]
  },
  {
   "cell_type": "markdown",
   "metadata": {},
   "source": [
    "Distinguish `recuresive process` and `recureive procedure`.\n",
    "\n",
    "- recuresive procedure: systematic fact that the procedure definition referes to the procedure itself.\n",
    "- recuresive process: how the process evolves."
   ]
  },
  {
   "cell_type": "markdown",
   "metadata": {},
   "source": [
    "## Exercise 1.9:\n",
    "Each of the following two procedures defines a method for adding two positive integers in terms of the procedures inc, which increments its argument by 1, and dec, which decrements its argument by 1.\n",
    "```s\n",
    "(define (+ a b)\n",
    "  (if (= a 0) \n",
    "    b \n",
    "    (inc (+ (dec a) b))))\n",
    "(define (+ a b)\n",
    "  (if (= a 0) \n",
    "    b \n",
    "    (+ (dec a) (inc b))))\n",
    "```\n",
    "Using the substitution model, illustrate the process generated by each procedure in evaluating (+ 4 5). Are these processes iterative or recursive?"
   ]
  },
  {
   "cell_type": "code",
   "execution_count": 2,
   "metadata": {},
   "outputs": [],
   "source": [
    "(define (dec a) (- a 1))\n",
    "(define (inc a) (+ a 1))\n",
    "(define (sum a b)\n",
    "  (if (= a 0) \n",
    "    b \n",
    "    (inc (sum (dec a) b))))"
   ]
  },
  {
   "cell_type": "code",
   "execution_count": 4,
   "metadata": {},
   "outputs": [
    {
     "data": {
      "text/plain": [
       "9"
      ]
     },
     "execution_count": 4,
     "metadata": {},
     "output_type": "execute_result"
    }
   ],
   "source": [
    "(sum 4 5)"
   ]
  },
  {
   "cell_type": "markdown",
   "metadata": {},
   "source": [
    "First process\n",
    "```s\n",
    "(+ 4 5)\n",
    "(inc (+ (dec 4) 5)) -> (inc (+ 3 5))\n",
    "(inc (inc (+ (dec 3) 5))) -> (inc (inc (+ 2 5)))\n",
    "(inc (inc (inc (+ (dec 2) 5)))) -> (inc (inc (inc (+ 1 5))))\n",
    "(inc (inc (inc (inc (+ (dec 1) 5))))) -> (inc (inc (inc (inc (+ 0 5)))))\n",
    "(inc (inc (inc (inc (+ 0 5)))))\n",
    "(inc (inc (inc (inc 5))))\n",
    "(inc (inc (inc 6)))\n",
    "(inc (inc 7))\n",
    "(inc 8)\n",
    "9\n",
    "```\n",
    "-> recursive process"
   ]
  },
  {
   "cell_type": "markdown",
   "metadata": {},
   "source": [
    "Second process\n",
    "```s\n",
    "(+ 4 5) -> (+ (dec 4) (inc 5))\n",
    "(+ 3 6) -> (+ (dec 3) (inc 6))\n",
    "(+ 2 7) -> (+ (dec 2) (inc 7))\n",
    "(+ 1 8) -> (+ (dec 1) (inc 8))\n",
    "(+ 0 9)\n",
    "9\n",
    "```\n",
    "-> iterative process"
   ]
  },
  {
   "cell_type": "markdown",
   "metadata": {},
   "source": [
    "## Exercise 1.10:\n",
    "Thee following procedure computes a mathematical function called Ackermann’s function.\n",
    "```s\n",
    "(define (A x y)\n",
    "  (cond ((= y 0) 0)\n",
    "        ((= x 0) (* 2 y))\n",
    "        ((= y 1) 2)\n",
    "        (else (A (- x 1) (A x (- y 1))))))\n",
    "```\n",
    "What are the values of the following expressions?\n",
    "```s\n",
    "(A 1 10)\n",
    "(A 2 4)\n",
    "(A 3 3)\n",
    "```\n",
    "Consider the following procedures, where A is the procedure defined above:\n",
    "```s\n",
    "(define (f n) (A 0 n))\n",
    "(define (g n) (A 1 n))\n",
    "(define (h n) (A 2 n))\n",
    "(define (k n) (* 5 n n))\n",
    "```\n",
    "Give concise mathematical definitions for the functions computed by the procedures f, g, and h for positive integer values of n. For example, (k n) computes 5n.\n"
   ]
  },
  {
   "cell_type": "code",
   "execution_count": 2,
   "metadata": {},
   "outputs": [],
   "source": [
    "(define (A x y)\n",
    "  (display (format \"x: ~a, y: ~a\\n\" x y))\n",
    "  (cond ((= y 0) 0)\n",
    "        ((= x 0) (* 2 y))\n",
    "        ((= y 1) 2)\n",
    "        (else (A (- x 1) (A x (- y 1))))))"
   ]
  },
  {
   "cell_type": "code",
   "execution_count": 6,
   "metadata": {},
   "outputs": [
    {
     "name": "stdout",
     "output_type": "stream",
     "text": [
      "x: 1, y: 10\n",
      "x: 1, y: 9\n",
      "x: 1, y: 8\n",
      "x: 1, y: 7\n",
      "x: 1, y: 6\n",
      "x: 1, y: 5\n",
      "x: 1, y: 4\n",
      "x: 1, y: 3\n",
      "x: 1, y: 2\n",
      "x: 1, y: 1\n",
      "x: 0, y: 2\n",
      "x: 0, y: 4\n",
      "x: 0, y: 8\n",
      "x: 0, y: 16\n",
      "x: 0, y: 32\n",
      "x: 0, y: 64\n",
      "x: 0, y: 128\n",
      "x: 0, y: 256\n",
      "x: 0, y: 512\n"
     ]
    },
    {
     "data": {
      "text/plain": [
       "1024"
      ]
     },
     "execution_count": 6,
     "metadata": {},
     "output_type": "execute_result"
    }
   ],
   "source": [
    "(A 1 10)"
   ]
  },
  {
   "cell_type": "code",
   "execution_count": 7,
   "metadata": {},
   "outputs": [
    {
     "name": "stdout",
     "output_type": "stream",
     "text": [
      "x: 2, y: 4\n",
      "x: 2, y: 3\n",
      "x: 2, y: 2\n",
      "x: 2, y: 1\n",
      "x: 1, y: 2\n",
      "x: 1, y: 1\n",
      "x: 0, y: 2\n",
      "x: 1, y: 4\n",
      "x: 1, y: 3\n",
      "x: 1, y: 2\n",
      "x: 1, y: 1\n",
      "x: 0, y: 2\n",
      "x: 0, y: 4\n",
      "x: 0, y: 8\n",
      "x: 1, y: 16\n",
      "x: 1, y: 15\n",
      "x: 1, y: 14\n",
      "x: 1, y: 13\n",
      "x: 1, y: 12\n",
      "x: 1, y: 11\n",
      "x: 1, y: 10\n",
      "x: 1, y: 9\n",
      "x: 1, y: 8\n",
      "x: 1, y: 7\n",
      "x: 1, y: 6\n",
      "x: 1, y: 5\n",
      "x: 1, y: 4\n",
      "x: 1, y: 3\n",
      "x: 1, y: 2\n",
      "x: 1, y: 1\n",
      "x: 0, y: 2\n",
      "x: 0, y: 4\n",
      "x: 0, y: 8\n",
      "x: 0, y: 16\n",
      "x: 0, y: 32\n",
      "x: 0, y: 64\n",
      "x: 0, y: 128\n",
      "x: 0, y: 256\n",
      "x: 0, y: 512\n",
      "x: 0, y: 1024\n",
      "x: 0, y: 2048\n",
      "x: 0, y: 4096\n",
      "x: 0, y: 8192\n",
      "x: 0, y: 16384\n",
      "x: 0, y: 32768\n"
     ]
    },
    {
     "data": {
      "text/plain": [
       "65536"
      ]
     },
     "execution_count": 7,
     "metadata": {},
     "output_type": "execute_result"
    }
   ],
   "source": [
    "(A 2 4)"
   ]
  },
  {
   "cell_type": "code",
   "execution_count": 8,
   "metadata": {},
   "outputs": [
    {
     "name": "stdout",
     "output_type": "stream",
     "text": [
      "x: 3, y: 3\n",
      "x: 3, y: 2\n",
      "x: 3, y: 1\n",
      "x: 2, y: 2\n",
      "x: 2, y: 1\n",
      "x: 1, y: 2\n",
      "x: 1, y: 1\n",
      "x: 0, y: 2\n",
      "x: 2, y: 4\n",
      "x: 2, y: 3\n",
      "x: 2, y: 2\n",
      "x: 2, y: 1\n",
      "x: 1, y: 2\n",
      "x: 1, y: 1\n",
      "x: 0, y: 2\n",
      "x: 1, y: 4\n",
      "x: 1, y: 3\n",
      "x: 1, y: 2\n",
      "x: 1, y: 1\n",
      "x: 0, y: 2\n",
      "x: 0, y: 4\n",
      "x: 0, y: 8\n",
      "x: 1, y: 16\n",
      "x: 1, y: 15\n",
      "x: 1, y: 14\n",
      "x: 1, y: 13\n",
      "x: 1, y: 12\n",
      "x: 1, y: 11\n",
      "x: 1, y: 10\n",
      "x: 1, y: 9\n",
      "x: 1, y: 8\n",
      "x: 1, y: 7\n",
      "x: 1, y: 6\n",
      "x: 1, y: 5\n",
      "x: 1, y: 4\n",
      "x: 1, y: 3\n",
      "x: 1, y: 2\n",
      "x: 1, y: 1\n",
      "x: 0, y: 2\n",
      "x: 0, y: 4\n",
      "x: 0, y: 8\n",
      "x: 0, y: 16\n",
      "x: 0, y: 32\n",
      "x: 0, y: 64\n",
      "x: 0, y: 128\n",
      "x: 0, y: 256\n",
      "x: 0, y: 512\n",
      "x: 0, y: 1024\n",
      "x: 0, y: 2048\n",
      "x: 0, y: 4096\n",
      "x: 0, y: 8192\n",
      "x: 0, y: 16384\n",
      "x: 0, y: 32768\n"
     ]
    },
    {
     "data": {
      "text/plain": [
       "65536"
      ]
     },
     "execution_count": 8,
     "metadata": {},
     "output_type": "execute_result"
    }
   ],
   "source": [
    "(A 3 3)"
   ]
  },
  {
   "cell_type": "code",
   "execution_count": 9,
   "metadata": {},
   "outputs": [],
   "source": [
    "(define (f n) (A 0 n))"
   ]
  },
  {
   "cell_type": "code",
   "execution_count": 12,
   "metadata": {},
   "outputs": [
    {
     "name": "stdout",
     "output_type": "stream",
     "text": [
      "x: 0, y: 10\n"
     ]
    },
    {
     "data": {
      "text/plain": [
       "20"
      ]
     },
     "execution_count": 12,
     "metadata": {},
     "output_type": "execute_result"
    }
   ],
   "source": [
    "(f 10)"
   ]
  },
  {
   "cell_type": "code",
   "execution_count": 13,
   "metadata": {},
   "outputs": [
    {
     "name": "stdout",
     "output_type": "stream",
     "text": [
      "x: 0, y: 20\n"
     ]
    },
    {
     "data": {
      "text/plain": [
       "40"
      ]
     },
     "execution_count": 13,
     "metadata": {},
     "output_type": "execute_result"
    }
   ],
   "source": [
    "(f 20)"
   ]
  },
  {
   "cell_type": "markdown",
   "metadata": {},
   "source": [
    "`(define (f n) (A 0 n))` computes `n * 2`"
   ]
  },
  {
   "cell_type": "code",
   "execution_count": 14,
   "metadata": {},
   "outputs": [],
   "source": [
    "(define (g n) (A 1 n))"
   ]
  },
  {
   "cell_type": "markdown",
   "metadata": {},
   "source": [
    "```s\n",
    "(g 3)\n",
    "(A 1 3)\n",
    "(A (- 1 1) (A 1 (- 3 1))) -> (A 0 (A 1 2))\n",
    "(A 0 (A (- 1 1) (A 1 (- 2 1)))) -> (A 0 (A 0 (A 1 1)))\n",
    "(A 0 (A 0 2)) // (A 1 1) -> cond y == 1 -> 2\n",
    "(A 0 4) // (A 0 2) cond x == 0 -> 2 * 2\n",
    "8\n",
    "```\n",
    "\n",
    "`(g n)` computes `2 * n` by this process repeats `(* 2 y)` N times."
   ]
  },
  {
   "cell_type": "code",
   "execution_count": 4,
   "metadata": {},
   "outputs": [],
   "source": [
    "(define (h n) (A 2 n))"
   ]
  },
  {
   "cell_type": "markdown",
   "metadata": {},
   "source": [
    "```s\n",
    "(h 3)\n",
    "(A 2 3)\n",
    "(A (- 2 1) (A 2 (- 3 1))) -> (A 1 (A 2 2))\n",
    "(A 1 (A (- 2 1) (A 2 (-2 1)))) -> (A 1 (A 1 (A 2 1))) // <- y == 1\n",
    "(A 1 (A 1 2))\n",
    "(A 1 (A (- 1 1) (A 1 (- 2 1)))) -> (A 1 (A 0 (A 1 1))) // <- y == 1\n",
    "(A 1 (A 0 2)) // <- x == 0\n",
    "(A 1 4)\n",
    "(A (- 1 1) (A 1 (- 4 1))) -> (A 0 (A 1 3))\n",
    "(A 0 (A (- 1 1) (A 1 (- 3 1)))) -> (A 0 (A 0 (A 1 2)))\n",
    "(A 0 (A 0 (A (- 1 1) (A 1 (- 2 1))))) -> (A 0 (A 0 (A 0 (A 1 1))))  // <- y == 1\n",
    "(A 0 (A 0 (A 0 2))) // <- x == 0\n",
    "(A 0 (A 0 4))\n",
    "(A 0 8)\n",
    "16\n",
    "```\n",
    "\n",
    "`(h n)` computes `2 * n` brcause, after process exanded, this process calcurates y * 2 for n times. "
   ]
  },
  {
   "cell_type": "code",
   "execution_count": 7,
   "metadata": {},
   "outputs": [
    {
     "name": "stdout",
     "output_type": "stream",
     "text": [
      "x: 2, y: 3\n",
      "x: 2, y: 2\n",
      "x: 2, y: 1\n",
      "x: 1, y: 2\n",
      "x: 1, y: 1\n",
      "x: 0, y: 2\n",
      "x: 1, y: 4\n",
      "x: 1, y: 3\n",
      "x: 1, y: 2\n",
      "x: 1, y: 1\n",
      "x: 0, y: 2\n",
      "x: 0, y: 4\n",
      "x: 0, y: 8\n"
     ]
    },
    {
     "data": {
      "text/plain": [
       "16"
      ]
     },
     "execution_count": 7,
     "metadata": {},
     "output_type": "execute_result"
    }
   ],
   "source": [
    "(h 3)"
   ]
  },
  {
   "cell_type": "markdown",
   "metadata": {},
   "source": [
    "### 1.2.2 Tree recursion"
   ]
  },
  {
   "cell_type": "markdown",
   "metadata": {},
   "source": [
    "**plain recursive procedure**\n",
    "Consider this plain implementation\n",
    "\n",
    "```s\n",
    "(define (fib n)\n",
    "  (cond ((= n 0) 0)\n",
    "        ((= n 1) 1)\n",
    "        (else (+ (fib (- n 1)\n",
    "                 (fib (- n 2)))))))\n",
    "```\n",
    "\n",
    "- `(fib 5)` requires `(fib 4)` and `(fib 3)`\n",
    "- `(fib 4)` requires `(fib 3)` and `(fib 2)`\n",
    "- ...\n",
    "\n",
    "**Problems**\n",
    "\n",
    "fib procedre calls itself twice.\n",
    "\n",
    "need to compute (fib 1) or (fib 0) precisely Fib(n + 1 ) times\n",
    "\n",
    "Order grows exponentially with N\n",
    "\n",
    "**Pros**\n",
    "\n",
    "Use space linier to N. Be affected by depth of tree.\n",
    "\n",
    "Simple implementation. Almost same as definition of Fibonacci sequence."
   ]
  },
  {
   "cell_type": "markdown",
   "metadata": {},
   "source": [
    "**Iterative procedure**\n",
    "\n",
    "\n",
    "**Problems**\n",
    "\n",
    "Need some considerence comareing to the preceding recursive procedure.\n",
    "\n",
    "**Pros**\n",
    "\n",
    "This implementation requires steps in linier to N\n"
   ]
  },
  {
   "cell_type": "code",
   "execution_count": 7,
   "metadata": {},
   "outputs": [],
   "source": [
    "(define (fib n)\n",
    "  (define (iter a b count)\n",
    "    (if (= count 0)\n",
    "        b\n",
    "        (iter (+ a b) a (- count 1))))\n",
    "  (iter 1 0 n))"
   ]
  },
  {
   "cell_type": "code",
   "execution_count": 8,
   "metadata": {},
   "outputs": [
    {
     "data": {
      "text/plain": [
       "5"
      ]
     },
     "execution_count": 8,
     "metadata": {},
     "output_type": "execute_result"
    }
   ],
   "source": [
    "(fib 5)"
   ]
  },
  {
   "cell_type": "code",
   "execution_count": 9,
   "metadata": {},
   "outputs": [
    {
     "data": {
      "text/plain": [
       "8"
      ]
     },
     "execution_count": 9,
     "metadata": {},
     "output_type": "execute_result"
    }
   ],
   "source": [
    "(fib 6)"
   ]
  },
  {
   "cell_type": "markdown",
   "metadata": {},
   "source": [
    "#### Exmple: Counting change\n",
    "\n",
    "The number of ways to change amount a using n kinds of coins equals\n",
    "- the number of ways to change amount a using all but the first kind of coin, plus\n",
    "- the number of ways to change amount a − d using all n kinds of coins, where d is the denomination of the first kind of coin.\n",
    "\n",
    "Kind of conins\n",
    "- $1\n",
    "- $5\n",
    "- $10\n",
    "- $25\n",
    "- $50\n",
    "\n",
    "If we need to change amount with $1 and $5 coins, methods can be gouped into\n",
    "- Do not using $5 coins\n",
    "- Using $5 coins (= Number of ways to make change for remaining amount)\n",
    "\n",
    "In procedure,\n",
    "- Use $5 coins\n",
    "  - Remain = 0: add 1 method\n",
    "  - Remain != 0:\n",
    "    - Use $1 coins\n",
    "      - Remain = 0: add 1 method\n",
    "      - Remain != 0: add 0 method\n",
    "\n",
    "If with $1, $5 and $10 coins\n",
    "- Use $10 coins\n",
    "  - Remain = 0: add 1 method\n",
    "  - Remain != 0:\n",
    "    - Use $5 coins\n",
    "      - Remain = 0: add 1 method\n",
    "      - Remain != 0:\n",
    "        - Use $1 coins\n",
    "          - Remain = 0: add 1 method\n",
    "          - Remain != 0: add 0 method\n"
   ]
  },
  {
   "cell_type": "code",
   "execution_count": 2,
   "metadata": {},
   "outputs": [],
   "source": [
    "(define (dollar n)\n",
    "  (cond\n",
    "    ((= n 1) 1)\n",
    "    ((= n 2) 5)\n",
    "    ((= n 3) 10)\n",
    "    ((= n 4) 25)\n",
    "    ((= n 5) 50)))\n",
    "\n",
    "(define (cc amount kind)\n",
    "  (display (format \"amount: ~a, kind: ~a\\n\" amount kind))\n",
    "  (cond\n",
    "    ((= amount 0) 1)\n",
    "    ((or (< amount 0) (= kind 0)) 0)\n",
    "    (else (+ \n",
    "            (cc amount (- kind 1))\n",
    "            (cc (- amount (dollar kind)) kind)\n",
    "                 ))))\n",
    "\n",
    "(define (count-change amount) (cc amount 5))"
   ]
  },
  {
   "cell_type": "code",
   "execution_count": 3,
   "metadata": {},
   "outputs": [
    {
     "name": "stdout",
     "output_type": "stream",
     "text": [
      "amount: 10, kind: 5\n",
      "amount: 10, kind: 4\n",
      "amount: 10, kind: 3\n",
      "amount: 10, kind: 2\n",
      "amount: 10, kind: 1\n",
      "amount: 10, kind: 0\n",
      "amount: 9, kind: 1\n",
      "amount: 9, kind: 0\n",
      "amount: 8, kind: 1\n",
      "amount: 8, kind: 0\n",
      "amount: 7, kind: 1\n",
      "amount: 7, kind: 0\n",
      "amount: 6, kind: 1\n",
      "amount: 6, kind: 0\n",
      "amount: 5, kind: 1\n",
      "amount: 5, kind: 0\n",
      "amount: 4, kind: 1\n",
      "amount: 4, kind: 0\n",
      "amount: 3, kind: 1\n",
      "amount: 3, kind: 0\n",
      "amount: 2, kind: 1\n",
      "amount: 2, kind: 0\n",
      "amount: 1, kind: 1\n",
      "amount: 1, kind: 0\n",
      "amount: 0, kind: 1\n",
      "amount: 5, kind: 2\n",
      "amount: 5, kind: 1\n",
      "amount: 5, kind: 0\n",
      "amount: 4, kind: 1\n",
      "amount: 4, kind: 0\n",
      "amount: 3, kind: 1\n",
      "amount: 3, kind: 0\n",
      "amount: 2, kind: 1\n",
      "amount: 2, kind: 0\n",
      "amount: 1, kind: 1\n",
      "amount: 1, kind: 0\n",
      "amount: 0, kind: 1\n",
      "amount: 0, kind: 2\n",
      "amount: 0, kind: 3\n",
      "amount: -15, kind: 4\n",
      "amount: -40, kind: 5\n"
     ]
    },
    {
     "data": {
      "text/plain": [
       "4"
      ]
     },
     "execution_count": 3,
     "metadata": {},
     "output_type": "execute_result"
    }
   ],
   "source": [
    "(count-change 10)"
   ]
  },
  {
   "cell_type": "markdown",
   "metadata": {},
   "source": [
    "#### Exercise 1.11\n",
    "\n",
    "Write a procedure that computes f by means of a recursive process. Write a procedure that computes f by means of an iterative process.\n",
    "\n",
    "```\n",
    "          n if n < 3\n",
    "f (n) = \n",
    "          f(n - 1) + 2f(n - 2) + 3f(n - 3) if n >= 3\n",
    "```"
   ]
  },
  {
   "cell_type": "code",
   "execution_count": 34,
   "metadata": {},
   "outputs": [],
   "source": [
    "(define (recf n) \n",
    "  (define (f n)\n",
    "    (if (< n 3) \n",
    "        n\n",
    "        (+ (f (- n 1)) (+ (* 2 (f (- n 2)))) (* 3 (f (- n 3))))))\n",
    "  (f n))"
   ]
  },
  {
   "cell_type": "code",
   "execution_count": 35,
   "metadata": {},
   "outputs": [
    {
     "data": {
      "text/plain": [
       "11"
      ]
     },
     "execution_count": 35,
     "metadata": {},
     "output_type": "execute_result"
    }
   ],
   "source": [
    "(recf 4)"
   ]
  },
  {
   "cell_type": "code",
   "execution_count": 12,
   "metadata": {},
   "outputs": [
    {
     "data": {
      "text/plain": [
       "25"
      ]
     },
     "execution_count": 12,
     "metadata": {},
     "output_type": "execute_result"
    }
   ],
   "source": [
    "(recf 5)"
   ]
  },
  {
   "cell_type": "code",
   "execution_count": 47,
   "metadata": {},
   "outputs": [],
   "source": [
    "(define (iterf n)\n",
    "  (define (f a b c n)\n",
    "    (display (format \"~a => a: ~a, b: ~a, c: ~a\\n\" n a b c))\n",
    "    (cond \n",
    "      ((< n 1) c)\n",
    "      ((= n 1) b)\n",
    "      ((= n 2) a)\n",
    "      (else (f (+ a (* 2 b) (* 3 c)) a b (- n 1)))))\n",
    "  (f 2 1 0 n))"
   ]
  },
  {
   "cell_type": "code",
   "execution_count": 46,
   "metadata": {},
   "outputs": [
    {
     "name": "stdout",
     "output_type": "stream",
     "text": [
      "4 => a: 2, b: 1, c: 0\n",
      "3 => a: 4, b: 2, c: 1\n",
      "2 => a: 11, b: 4, c: 2\n"
     ]
    },
    {
     "data": {
      "text/plain": [
       "11"
      ]
     },
     "execution_count": 46,
     "metadata": {},
     "output_type": "execute_result"
    }
   ],
   "source": [
    "(iterf 4)"
   ]
  },
  {
   "cell_type": "code",
   "execution_count": 44,
   "metadata": {},
   "outputs": [
    {
     "name": "stdout",
     "output_type": "stream",
     "text": [
      "5 => a: 2, b: 1, c: 0\n",
      "4 => a: 4, b: 2, c: 1\n",
      "3 => a: 11, b: 4, c: 2\n",
      "2 => a: 25, b: 11, c: 4\n"
     ]
    },
    {
     "data": {
      "text/plain": [
       "25"
      ]
     },
     "execution_count": 44,
     "metadata": {},
     "output_type": "execute_result"
    }
   ],
   "source": [
    "(iterf 5)"
   ]
  },
  {
   "cell_type": "code",
   "execution_count": 54,
   "metadata": {},
   "outputs": [
    {
     "name": "stdout",
     "output_type": "stream",
     "text": [
      "2 => a: 2, b: 1, c: 0\n"
     ]
    },
    {
     "data": {
      "text/plain": [
       "2"
      ]
     },
     "execution_count": 54,
     "metadata": {},
     "output_type": "execute_result"
    }
   ],
   "source": [
    "(iterf 2)"
   ]
  },
  {
   "cell_type": "markdown",
   "metadata": {},
   "source": [
    "#### Exercise 1.12: Pascal’s triangle\n",
    "\n",
    "```\n",
    "    1\n",
    "   1 1 \n",
    "  1 2 1 \n",
    " 1 3 3 1 \n",
    "1 4 6 4 1\n",
    "   ...\n",
    "```\n",
    "The numbers at the edge of the triangle are all 1, and each number inside the triangle is the sum of the two numbers above it. Write a procedure that computes element of Pascal’s triangle by means of a recursive process."
   ]
  },
  {
   "cell_type": "code",
   "execution_count": 15,
   "metadata": {},
   "outputs": [],
   "source": [
    "(define (triangle n k)\n",
    "  (if (or (= n k) (= k 1))\n",
    "      1\n",
    "      (+ (triangle (- n 1) k)\n",
    "         (triangle (- n 1) (- k 1)))))"
   ]
  },
  {
   "cell_type": "code",
   "execution_count": 19,
   "metadata": {},
   "outputs": [
    {
     "name": "stdout",
     "output_type": "stream",
     "text": [
      "1\n",
      "6\n",
      "15\n",
      "20\n",
      "15\n",
      "6\n",
      "1\n"
     ]
    }
   ],
   "source": [
    "(display (format \"~a\\n\" (triangle 7 1)))\n",
    "(display (format \"~a\\n\" (triangle 7 2)))\n",
    "(display (format \"~a\\n\" (triangle 7 3)))\n",
    "(display (format \"~a\\n\" (triangle 7 4)))\n",
    "(display (format \"~a\\n\" (triangle 7 5)))\n",
    "(display (format \"~a\\n\" (triangle 7 6)))\n",
    "(display (format \"~a\\n\" (triangle 7 7)))"
   ]
  },
  {
   "cell_type": "markdown",
   "metadata": {},
   "source": [
    "### 1.2.3 Orders of Growth\n"
   ]
  },
  {
   "cell_type": "markdown",
   "metadata": {},
   "source": [
    "### 1.2.4 Exponentiaion\n"
   ]
  },
  {
   "cell_type": "code",
   "execution_count": 27,
   "metadata": {},
   "outputs": [],
   "source": [
    "(define (exp-rec b n)\n",
    "  (define (exp b n)\n",
    "    (if (= n 1)\n",
    "        b\n",
    "        (* b (exp b (- n 1)))))\n",
    "  (exp b n))"
   ]
  },
  {
   "cell_type": "code",
   "execution_count": 28,
   "metadata": {},
   "outputs": [
    {
     "name": "stdout",
     "output_type": "stream",
     "text": [
      "2\n",
      "4\n",
      "8\n",
      "16\n",
      "32\n"
     ]
    }
   ],
   "source": [
    "(display (format \"~a\\n\" (exp-rec 2 1)))\n",
    "(display (format \"~a\\n\" (exp-rec 2 2)))\n",
    "(display (format \"~a\\n\" (exp-rec 2 3)))\n",
    "(display (format \"~a\\n\" (exp-rec 2 4)))\n",
    "(display (format \"~a\\n\" (exp-rec 2 5)))"
   ]
  },
  {
   "cell_type": "code",
   "execution_count": 33,
   "metadata": {},
   "outputs": [],
   "source": [
    "(define (exp-iter b n)\n",
    "  (define (exp b n acc)\n",
    "    (if (= n 1)\n",
    "        acc\n",
    "        (exp b (- n 1) (* acc b))))\n",
    "  (exp b n b))"
   ]
  },
  {
   "cell_type": "code",
   "execution_count": 34,
   "metadata": {},
   "outputs": [
    {
     "name": "stdout",
     "output_type": "stream",
     "text": [
      "2\n",
      "4\n",
      "8\n",
      "16\n",
      "32\n"
     ]
    }
   ],
   "source": [
    "(display (format \"~a\\n\" (exp-iter 2 1)))\n",
    "(display (format \"~a\\n\" (exp-iter 2 2)))\n",
    "(display (format \"~a\\n\" (exp-iter 2 3)))\n",
    "(display (format \"~a\\n\" (exp-iter 2 4)))\n",
    "(display (format \"~a\\n\" (exp-iter 2 5)))"
   ]
  },
  {
   "cell_type": "markdown",
   "metadata": {},
   "source": [
    "This recuresive process requires O(n) steps and O(n) space.\n",
    "\n",
    "The iterative version requires O(n) strps and O(1) space."
   ]
  },
  {
   "cell_type": "markdown",
   "metadata": {},
   "source": [
    "We can reduce steps by \n",
    "```\n",
    "b ^ n = (b ^ n/2) ^ 2 if n % 2 == 0\n",
    "b ^ n = b * b ^ (n - 1) if n % 2 == 1\n",
    "```"
   ]
  },
  {
   "cell_type": "code",
   "execution_count": 43,
   "metadata": {},
   "outputs": [],
   "source": [
    "(define (fast-exp b n)\n",
    "  (define (square n) (* n n))\n",
    "  (define (exp b n)\n",
    "    (cond \n",
    "      ((= n 0) 1)\n",
    "      ((even? n) (square (exp b (/ n 2))))\n",
    "      (else (* b (exp b (- n 1))))))\n",
    "  (exp b n))"
   ]
  },
  {
   "cell_type": "code",
   "execution_count": 44,
   "metadata": {},
   "outputs": [
    {
     "name": "stdout",
     "output_type": "stream",
     "text": [
      "2\n",
      "4\n",
      "8\n",
      "16\n",
      "32\n"
     ]
    }
   ],
   "source": [
    "(display (format \"~a\\n\" (fast-exp 2 1)))\n",
    "(display (format \"~a\\n\" (fast-exp 2 2)))\n",
    "(display (format \"~a\\n\" (fast-exp 2 3)))\n",
    "(display (format \"~a\\n\" (fast-exp 2 4)))\n",
    "(display (format \"~a\\n\" (fast-exp 2 5)))"
   ]
  },
  {
   "cell_type": "markdown",
   "metadata": {},
   "source": [
    "#### Exercise 1.16: \n",
    "Design a procedure that evolves an iterative exponentiation process that uses successive squaring and uses a logarithmic number of steps, as does fast-expt.\n",
    "Hint: Using the observation that (b ^ n/2) ^ 2 = (b ^ 2) ^ n/2"
   ]
  },
  {
   "cell_type": "code",
   "execution_count": 32,
   "metadata": {},
   "outputs": [],
   "source": [
    "(define (fast-exp-iter b n)\n",
    "  (define (square n) (* n n))\n",
    "  (define (exp b n acc)\n",
    "    (cond\n",
    "      ((= n 1) acc)\n",
    "      ((even? n) (exp b (/ n 2) (* (square b) acc)))\n",
    "      (else (exp b (- n 1) (* acc b)))))\n",
    "  (exp b n 1))"
   ]
  },
  {
   "cell_type": "code",
   "execution_count": 65,
   "metadata": {},
   "outputs": [
    {
     "name": "stdout",
     "output_type": "stream",
     "text": [
      "1\n",
      "4\n",
      "8\n",
      "16\n",
      "32\n"
     ]
    }
   ],
   "source": [
    "(display (format \"~a\\n\" (fast-exp-iter 2 1)))\n",
    "(display (format \"~a\\n\" (fast-exp-iter 2 2)))\n",
    "(display (format \"~a\\n\" (fast-exp-iter 2 3)))\n",
    "(display (format \"~a\\n\" (fast-exp-iter 2 4)))\n",
    "(display (format \"~a\\n\" (fast-exp-iter 2 5)))"
   ]
  },
  {
   "cell_type": "markdown",
   "metadata": {},
   "source": [
    "#### Exercise 1.17\n",
    "```s\n",
    "(define (* a b)\n",
    "  (if (= b 0)\n",
    "      0\n",
    "      (+ a (* a (- b 1)))))\n",
    "```\n",
    "\n",
    "Now suppose we include, together with \n",
    "- addition\n",
    "- operations `double`, which doubles an integer, \n",
    "- `halve`, which divides an (even) integer by 2.\n",
    "Using these, design a multiplication procedure analogous to `fast-expt` that uses a logarithmic number of steps."
   ]
  },
  {
   "cell_type": "code",
   "execution_count": 112,
   "metadata": {},
   "outputs": [],
   "source": [
    "(define (mul a b)\n",
    "  (define (double n) (* n 2))\n",
    "  (define (halve n) (/ n 2))\n",
    "  (cond\n",
    "    ((= b 0) 1)\n",
    "    ((= b 1) a)\n",
    "    ((even? b) (double (mul a (halve b))))\n",
    "    (else (+ a (mul a (- b 1))))))"
   ]
  },
  {
   "cell_type": "code",
   "execution_count": 113,
   "metadata": {},
   "outputs": [
    {
     "data": {
      "text/plain": [
       "1"
      ]
     },
     "execution_count": 113,
     "metadata": {},
     "output_type": "execute_result"
    }
   ],
   "source": [
    "(mul 2 0)"
   ]
  },
  {
   "cell_type": "code",
   "execution_count": 116,
   "metadata": {},
   "outputs": [
    {
     "name": "stdout",
     "output_type": "stream",
     "text": [
      "1\n",
      "6\n",
      "4\n",
      "20\n",
      "12\n",
      "25\n",
      "48\n"
     ]
    }
   ],
   "source": [
    "(display (format \"~a\\n\" (mul 2 0)))\n",
    "(display (format \"~a\\n\" (mul 6 1)))\n",
    "(display (format \"~a\\n\" (mul 2 2)))\n",
    "(display (format \"~a\\n\" (mul 2 10)))\n",
    "(display (format \"~a\\n\" (mul 3 4)))\n",
    "(display (format \"~a\\n\" (mul 5 5)))\n",
    "(display (format \"~a\\n\" (mul 8 6)))"
   ]
  },
  {
   "cell_type": "markdown",
   "metadata": {},
   "source": [
    "#### Exercise 1.18\n",
    "Using the results of Exercise 1.16 and Exercise 1.17, devise a procedure that generates an iterative process for multiplying two integers in terms of adding, doubling, and halving and uses a logarithmic number of steps."
   ]
  },
  {
   "cell_type": "code",
   "execution_count": 17,
   "metadata": {},
   "outputs": [],
   "source": [
    "(define (mul-iter a b)\n",
    "  (define (double n) (* n 2))\n",
    "  (define (halve n) (/ n 2))\n",
    "  (define (mul a b acc)\n",
    "    ;;(display (format \"a: ~a, b: ~a, acc: ~a\\n\" a b acc))\n",
    "    (cond\n",
    "      ((= b 0) acc)\n",
    "      ((even? b) (mul (double a) (halve b) acc))\n",
    "      (else (mul a (- b 1) (+ acc a)))\n",
    "      ))\n",
    "  (mul a b 0))"
   ]
  },
  {
   "cell_type": "code",
   "execution_count": 16,
   "metadata": {},
   "outputs": [
    {
     "name": "stdout",
     "output_type": "stream",
     "text": [
      "a: 2, b: 10, acc: 0\n",
      "a: 4, b: 5, acc: 0\n",
      "a: 4, b: 4, acc: 4\n",
      "a: 8, b: 2, acc: 4\n",
      "a: 16, b: 1, acc: 4\n",
      "a: 16, b: 0, acc: 20\n"
     ]
    },
    {
     "data": {
      "text/plain": [
       "20"
      ]
     },
     "execution_count": 16,
     "metadata": {},
     "output_type": "execute_result"
    }
   ],
   "source": [
    "(mul-iter 2 10)"
   ]
  },
  {
   "cell_type": "code",
   "execution_count": 14,
   "metadata": {},
   "outputs": [
    {
     "name": "stdout",
     "output_type": "stream",
     "text": [
      "6\n",
      "4\n",
      "20\n",
      "12\n",
      "25\n",
      "48\n"
     ]
    }
   ],
   "source": [
    "(display (format \"~a\\n\" (mul-iter 6 1)))\n",
    "(display (format \"~a\\n\" (mul-iter 2 2)))\n",
    "(display (format \"~a\\n\" (mul-iter 2 10)))\n",
    "(display (format \"~a\\n\" (mul-iter 3 4)))\n",
    "(display (format \"~a\\n\" (mul-iter 5 5)))\n",
    "(display (format \"~a\\n\" (mul-iter 8 6)))"
   ]
  },
  {
   "cell_type": "markdown",
   "metadata": {},
   "source": [
    "#### Exercise 1.19: a clever algorithm for computing the Fibonacci"
   ]
  },
  {
   "cell_type": "markdown",
   "metadata": {},
   "source": [
    "T: Transformation to bind a <- a + b, b <- a\n",
    "\n",
    "T^n: the N-th Fibonacci number\n",
    "\n",
    "Tpq, p = 0, q = 1\n",
    "a <- bq + aq, b <- bp + aq\n",
    "\n",
    "- Show these operations have same efflect.\n",
    "  - apply `Tpq` twice\n",
    "  - apply `Tp'q'` once\n",
    "- Compute the values of `p'` and `q'`."
   ]
  },
  {
   "cell_type": "markdown",
   "metadata": {},
   "source": [
    "p' = p^2 + q^2\n",
    "q' = q^2 + 2pq"
   ]
  },
  {
   "cell_type": "markdown",
   "metadata": {},
   "source": [
    "This gives us an explicit way to square these transformations, and thus we can compute T n using successive squaring, as in the fast-expt procedure\n",
    "\n",
    "```s\n",
    "(define (fib n) \n",
    "  (define (fib-iter a b p q count) \n",
    "    (cond ((= count 0) b)\n",
    "          ((even? count) (fib-iter a\n",
    "                                   b\n",
    "                                   ⟨??⟩ ; compute p′\n",
    "                                   ⟨??⟩ ; compute q′ \n",
    "                                   (/ count 2)))\n",
    "          (else (fib-iter (+ (* b q) (* a q) (* a p))\n",
    "                          (+ (* b p) (* a q))\n",
    "                          p\n",
    "                          q\n",
    "                          (- count 1)))))\n",
    "  (fib-iter 1 0 0 1 n))\n",
    "  ```"
   ]
  },
  {
   "cell_type": "code",
   "execution_count": 33,
   "metadata": {},
   "outputs": [],
   "source": [
    "(define (logarithmic-fib n) \n",
    "  (define (fib-iter a b p q count) \n",
    "    (cond ((= count 0) b)\n",
    "          ((even? count) (fib-iter a\n",
    "                                   b\n",
    "                                   (+ (* p p) (* q q)) ;; p' = p^2 + q^2\n",
    "                                   (+ (* q q) (* 2 p q));; q' = q^2 + 2pq\n",
    "                                   (/ count 2)))\n",
    "          (else (fib-iter (+ (* b q) (* a q) (* a p))\n",
    "                          (+ (* b p) (* a q))\n",
    "                          p\n",
    "                          q\n",
    "                          (- count 1)))))\n",
    "  (fib-iter 1 0 0 1 n))"
   ]
  },
  {
   "cell_type": "code",
   "execution_count": 39,
   "metadata": {},
   "outputs": [
    {
     "name": "stdout",
     "output_type": "stream",
     "text": [
      "1\n",
      "1\n",
      "2\n",
      "3\n",
      "5\n",
      "8\n",
      "13\n",
      "21\n",
      "34\n"
     ]
    }
   ],
   "source": [
    "(display (format \"~a\\n\" (logarithmic-fib 1)))\n",
    "(display (format \"~a\\n\" (logarithmic-fib 2)))\n",
    "(display (format \"~a\\n\" (logarithmic-fib 3)))\n",
    "(display (format \"~a\\n\" (logarithmic-fib 4)))\n",
    "(display (format \"~a\\n\" (logarithmic-fib 5)))\n",
    "(display (format \"~a\\n\" (logarithmic-fib 6)))\n",
    "(display (format \"~a\\n\" (logarithmic-fib 7)))\n",
    "(display (format \"~a\\n\" (logarithmic-fib 8)))\n",
    "(display (format \"~a\\n\" (logarithmic-fib 9)))"
   ]
  },
  {
   "cell_type": "markdown",
   "metadata": {},
   "source": [
    "### 1.2.5 Greatest Common Divisors"
   ]
  },
  {
   "cell_type": "markdown",
   "metadata": {},
   "source": [
    "- `r` is the remainder of `a / b`\n",
    "- common divisors of `a` and `b`, are same as ones of `b` and `r`\n",
    "- GCD(a, b) = GCD(b, r)\n",
    "\n",
    "```\n",
    "GCD(206, 40) \n",
    "= GCD(40, 6)\n",
    "= GCD(6, 4)\n",
    "= GCD(4, 2)\n",
    "= GCD(2, 0)\n",
    "= 2\n",
    "```\n"
   ]
  },
  {
   "cell_type": "code",
   "execution_count": 3,
   "metadata": {},
   "outputs": [],
   "source": [
    "(define (gcd a b)\n",
    "  (if (= b 0)\n",
    "    a\n",
    "    (gcd b (remainder a b))))"
   ]
  },
  {
   "cell_type": "code",
   "execution_count": 4,
   "metadata": {},
   "outputs": [
    {
     "data": {
      "text/plain": [
       "2"
      ]
     },
     "execution_count": 4,
     "metadata": {},
     "output_type": "execute_result"
    }
   ],
   "source": [
    "(gcd 206 40)"
   ]
  },
  {
   "cell_type": "markdown",
   "metadata": {},
   "source": [
    "### 1.2.6 Example: Testing for Primality"
   ]
  },
  {
   "cell_type": "markdown",
   "metadata": {},
   "source": [
    "Introduce two methods\n",
    "- 1: Order of grouth O(√n)\n",
    "- 2: Order of grouth O(log n), \"probabilistic\" algorithm"
   ]
  },
  {
   "cell_type": "markdown",
   "metadata": {},
   "source": [
    "#### 1st method"
   ]
  },
  {
   "cell_type": "code",
   "execution_count": 51,
   "metadata": {},
   "outputs": [],
   "source": [
    "(define (square n) (* n n))\n",
    "(define (divides? a b) (= (remainder b a) 0))\n",
    "\n",
    "(define (smallest-divisor n)\n",
    "  (define (find-divisor n test)\n",
    "    (cond\n",
    "      ((> (square test) n) n)\n",
    "      ((divides? test n) test)\n",
    "      (else (find-divisor n (+ test 1)))))\n",
    "  (find-divisor n 2))"
   ]
  },
  {
   "cell_type": "code",
   "execution_count": 14,
   "metadata": {},
   "outputs": [
    {
     "name": "stdout",
     "output_type": "stream",
     "text": [
      "1\n",
      "2\n",
      "7\n",
      "3\n",
      "3\n",
      "37\n"
     ]
    }
   ],
   "source": [
    "(display (format \"~a\\n\" (smallest-divisor 1)))\n",
    "(display (format \"~a\\n\" (smallest-divisor 2)))\n",
    "(display (format \"~a\\n\" (smallest-divisor 7)))\n",
    "(display (format \"~a\\n\" (smallest-divisor 9)))\n",
    "(display (format \"~a\\n\" (smallest-divisor 21)))\n",
    "(display (format \"~a\\n\" (smallest-divisor 37)))"
   ]
  },
  {
   "cell_type": "code",
   "execution_count": 52,
   "metadata": {},
   "outputs": [],
   "source": [
    "(define (prime? n)\n",
    "  (= n (smallest-divisor n)))"
   ]
  },
  {
   "cell_type": "code",
   "execution_count": 20,
   "metadata": {},
   "outputs": [
    {
     "name": "stdout",
     "output_type": "stream",
     "text": [
      "True\n",
      "True\n",
      "True\n",
      "False\n",
      "False\n",
      "True\n"
     ]
    }
   ],
   "source": [
    "(display (format \"~a\\n\" (prime? 1)))\n",
    "(display (format \"~a\\n\" (prime? 2)))\n",
    "(display (format \"~a\\n\" (prime? 7)))\n",
    "(display (format \"~a\\n\" (prime? 9)))\n",
    "(display (format \"~a\\n\" (prime? 21)))\n",
    "(display (format \"~a\\n\" (prime? 37)))"
   ]
  },
  {
   "cell_type": "markdown",
   "metadata": {},
   "source": [
    "This process based on the fact that if n is not prime, it must have a divisor less than or equal to `√n`.\n",
    "\n",
    "-> It requires O(√n) step because it iterates `test` value 2 to √n"
   ]
  },
  {
   "cell_type": "markdown",
   "metadata": {},
   "source": [
    "#### 2nd method: The Fermat test"
   ]
  },
  {
   "cell_type": "markdown",
   "metadata": {},
   "source": [
    "Fermat’s Little Theorem\n",
    "```md\n",
    "If `n` is a prime number and `a` is any positive integer less than `n`, then `a` raised to the nth power is congruent to `a` modulo `n`.\n",
    "```\n",
    "\n",
    "Two numbers are said to be congruent modulo `n` if they both have the same remainder when divided by `n`. The remainder of a number `a` when divided by `n` is also referred to as the `remainder of a modulo n`, or simply as a `modulo n`\n",
    "\n",
    "- Given\n",
    "  - n: target\n",
    "  - a: 0 < a < n\n",
    "- When\n",
    "  - a ^ n mod n = a\n",
    "- Then\n",
    "  - n is a prime number\n"
   ]
  },
  {
   "cell_type": "code",
   "execution_count": 40,
   "metadata": {},
   "outputs": [],
   "source": [
    "(define (expmod base exp m)\n",
    "  (define (square n) (* n n))\n",
    "  ; (display (format \"base: ~a, exp: ~a, m: ~a\\n\" base exp m))\n",
    "  (cond ((= exp 0) 1)\n",
    "        ((even? exp)\n",
    "          (remainder\n",
    "            (square (expmod base (/ exp 2) m))\n",
    "            m))\n",
    "        (else\n",
    "          (remainder\n",
    "            (* base (expmod base (- exp 1) m))\n",
    "            m))))"
   ]
  },
  {
   "cell_type": "code",
   "execution_count": 37,
   "metadata": {},
   "outputs": [
    {
     "name": "stdout",
     "output_type": "stream",
     "text": [
      "base: 4, exp: 2, m: 1\n",
      "base: 4, exp: 1, m: 1\n",
      "base: 4, exp: 0, m: 1\n"
     ]
    },
    {
     "data": {
      "text/plain": [
       "0"
      ]
     },
     "execution_count": 37,
     "metadata": {},
     "output_type": "execute_result"
    }
   ],
   "source": [
    "(expmod 4 2 1)"
   ]
  },
  {
   "cell_type": "code",
   "execution_count": 34,
   "metadata": {},
   "outputs": [],
   "source": [
    "(define (fermat-test n)\n",
    "  (define (try-it a)\n",
    "    ; (display (format \"a: ~a, expmod: ~a\\n\" a (expmod a n n)))\n",
    "    (= (expmod a n n) a))\n",
    "  (try-it (+ 1 (random (- n 1)))))"
   ]
  },
  {
   "cell_type": "code",
   "execution_count": 52,
   "metadata": {},
   "outputs": [
    {
     "name": "stdout",
     "output_type": "stream",
     "text": [
      "base: 3, exp: 7, m: 7\n",
      "base: 3, exp: 6, m: 7\n",
      "base: 3, exp: 3, m: 7\n",
      "base: 3, exp: 2, m: 7\n",
      "base: 3, exp: 1, m: 7\n",
      "base: 3, exp: 0, m: 7\n"
     ]
    },
    {
     "data": {
      "text/plain": [
       "#t"
      ]
     },
     "execution_count": 52,
     "metadata": {},
     "output_type": "execute_result"
    }
   ],
   "source": [
    "(fermat-test 7)"
   ]
  },
  {
   "cell_type": "code",
   "execution_count": 42,
   "metadata": {},
   "outputs": [
    {
     "name": "stdout",
     "output_type": "stream",
     "text": [
      "base: 4, exp: 7, m: 7\n",
      "base: 4, exp: 6, m: 7\n",
      "base: 4, exp: 3, m: 7\n",
      "base: 4, exp: 2, m: 7\n",
      "base: 4, exp: 1, m: 7\n",
      "base: 4, exp: 0, m: 7\n"
     ]
    },
    {
     "data": {
      "text/plain": [
       "#t"
      ]
     },
     "execution_count": 42,
     "metadata": {},
     "output_type": "execute_result"
    }
   ],
   "source": [
    "(fermat-test 7)"
   ]
  },
  {
   "cell_type": "code",
   "execution_count": 41,
   "metadata": {},
   "outputs": [
    {
     "name": "stdout",
     "output_type": "stream",
     "text": [
      "base: 22, exp: 57, m: 57\n",
      "base: 22, exp: 56, m: 57\n",
      "base: 22, exp: 28, m: 57\n",
      "base: 22, exp: 14, m: 57\n",
      "base: 22, exp: 7, m: 57\n",
      "base: 22, exp: 6, m: 57\n",
      "base: 22, exp: 3, m: 57\n",
      "base: 22, exp: 2, m: 57\n",
      "base: 22, exp: 1, m: 57\n",
      "base: 22, exp: 0, m: 57\n"
     ]
    },
    {
     "data": {
      "text/plain": [
       "#f"
      ]
     },
     "execution_count": 41,
     "metadata": {},
     "output_type": "execute_result"
    }
   ],
   "source": [
    "(fermat-test 57)"
   ]
  },
  {
   "cell_type": "markdown",
   "metadata": {},
   "source": [
    "#### Probabilistic methods"
   ]
  },
  {
   "cell_type": "markdown",
   "metadata": {},
   "source": [
    "Fermat's little theorem is not a quire correct assertion because there are numbers thar fool it.\n",
    "\n",
    "number `n` have these property fool the throrem, but such kind of numbers are rare.\n",
    "- not prime\n",
    "- `a^n` is congrument to `a mod n` for all integers `a < n`\n"
   ]
  },
  {
   "cell_type": "markdown",
   "metadata": {},
   "source": [
    "#### Exercise 1.21\n",
    "Use the smallest-divisor procedure to find the smallest divisor of each of the following numbers: 199, 1999, 19999."
   ]
  },
  {
   "cell_type": "code",
   "execution_count": 56,
   "metadata": {},
   "outputs": [
    {
     "data": {
      "text/plain": [
       "199"
      ]
     },
     "execution_count": 56,
     "metadata": {},
     "output_type": "execute_result"
    }
   ],
   "source": [
    "(smallest-divisor 199)"
   ]
  },
  {
   "cell_type": "code",
   "execution_count": 57,
   "metadata": {},
   "outputs": [
    {
     "data": {
      "text/plain": [
       "1999"
      ]
     },
     "execution_count": 57,
     "metadata": {},
     "output_type": "execute_result"
    }
   ],
   "source": [
    "(smallest-divisor 1999)"
   ]
  },
  {
   "cell_type": "code",
   "execution_count": 58,
   "metadata": {},
   "outputs": [
    {
     "data": {
      "text/plain": [
       "7"
      ]
     },
     "execution_count": 58,
     "metadata": {},
     "output_type": "execute_result"
    }
   ],
   "source": [
    "(smallest-divisor 19999)"
   ]
  },
  {
   "cell_type": "markdown",
   "metadata": {},
   "source": [
    "#### Exercise 1.22\n"
   ]
  },
  {
   "cell_type": "code",
   "execution_count": 6,
   "metadata": {},
   "outputs": [
    {
     "data": {
      "text/plain": [
       "1644886693.782627"
      ]
     },
     "execution_count": 6,
     "metadata": {},
     "output_type": "execute_result"
    }
   ],
   "source": [
    "(current-time)"
   ]
  },
  {
   "cell_type": "code",
   "execution_count": 49,
   "metadata": {},
   "outputs": [],
   "source": [
    "(define (runtime) (current-time))"
   ]
  },
  {
   "cell_type": "code",
   "execution_count": 46,
   "metadata": {},
   "outputs": [],
   "source": [
    "(define (timed-prime-test n) \n",
    "  (newline)\n",
    "  (display n)\n",
    "  (start-prime-test n (runtime)))\n",
    "(define (start-prime-test n start-time)\n",
    "  (if (prime? n)\n",
    "    (report-prime (- (runtime) start-time))))\n",
    "(define (report-prime elapsed-time)\n",
    "  (display \" *** \")\n",
    "  (display (* elapsed-time 1000)))\n"
   ]
  },
  {
   "cell_type": "markdown",
   "metadata": {},
   "source": [
    "Using this procedure, write a procedure `search-for-primes` that checks the primality of consecutive odd integers in a specified range."
   ]
  },
  {
   "cell_type": "code",
   "execution_count": 64,
   "metadata": {},
   "outputs": [
    {
     "name": "stdout",
     "output_type": "stream",
     "text": [
      "\n",
      "7 *** 2.3543834686279297"
     ]
    }
   ],
   "source": [
    "(timed-prime-test 7)"
   ]
  },
  {
   "cell_type": "code",
   "execution_count": 16,
   "metadata": {},
   "outputs": [
    {
     "name": "stdout",
     "output_type": "stream",
     "text": [
      "\n",
      "4"
     ]
    },
    {
     "data": {
      "text/plain": [
       "#f"
      ]
     },
     "execution_count": 16,
     "metadata": {},
     "output_type": "execute_result"
    }
   ],
   "source": [
    "(timed-prime-test 4) "
   ]
  },
  {
   "cell_type": "code",
   "execution_count": 47,
   "metadata": {},
   "outputs": [],
   "source": [
    "(define (search-for-primes min max)\n",
    "  (define (iter n)\n",
    "    (cond ((<= n max)\n",
    "            (timed-prime-test n)\n",
    "            (iter (+ n 2)))))\n",
    "  (if (odd? min)\n",
    "        (iter min)\n",
    "        (iter (+ min 1))))"
   ]
  },
  {
   "cell_type": "code",
   "execution_count": 65,
   "metadata": {},
   "outputs": [
    {
     "name": "stdout",
     "output_type": "stream",
     "text": [
      "\n",
      "11 *** 3.9298534393310547\n",
      "13 *** 5.522012710571289\n",
      "15\n",
      "17 *** 3.8318634033203125\n",
      "19 *** 4.277944564819336"
     ]
    },
    {
     "data": {
      "text/plain": [
       "#f"
      ]
     },
     "execution_count": 65,
     "metadata": {},
     "output_type": "execute_result"
    }
   ],
   "source": [
    "(search-for-primes 10 20)"
   ]
  },
  {
   "cell_type": "code",
   "execution_count": 67,
   "metadata": {},
   "outputs": [
    {
     "name": "stdout",
     "output_type": "stream",
     "text": [
      "\n",
      "1001\n",
      "1003\n",
      "1005\n",
      "1007\n",
      "1009 *** 29.5259952545166\n",
      "1011\n",
      "1013 *** 29.17933464050293\n",
      "1015\n",
      "1017\n",
      "1019 *** 30.757904052734375\n",
      "1021 *** 27.501821517944336\n",
      "1023\n",
      "1025\n",
      "1027\n",
      "1029\n",
      "1031 *** 27.013063430786133\n",
      "1033 *** 28.365135192871094\n",
      "1035\n",
      "1037\n",
      "1039 *** 28.81908416748047\n",
      "1041\n",
      "1043\n",
      "1045\n",
      "1047\n",
      "1049 *** 31.595945358276367\n",
      "1051 *** 28.053998947143555\n",
      "1053\n",
      "1055\n",
      "1057\n",
      "1059\n",
      "1061 *** 32.98687934875488\n",
      "1063 *** 29.25896644592285\n",
      "1065\n",
      "1067\n",
      "1069 *** 30.61389923095703\n",
      "1071\n",
      "1073\n",
      "1075\n",
      "1077\n",
      "1079\n",
      "1081\n",
      "1083\n",
      "1085\n",
      "1087 *** 26.378870010375977\n",
      "1089\n",
      "1091 *** 26.710033416748047\n",
      "1093 *** 27.255773544311523\n",
      "1095\n",
      "1097 *** 27.603864669799805\n",
      "1099"
     ]
    },
    {
     "data": {
      "text/plain": [
       "#f"
      ]
     },
     "execution_count": 67,
     "metadata": {},
     "output_type": "execute_result"
    }
   ],
   "source": [
    "(search-for-primes 1000 1100)"
   ]
  },
  {
   "cell_type": "code",
   "execution_count": 68,
   "metadata": {},
   "outputs": [
    {
     "name": "stdout",
     "output_type": "stream",
     "text": [
      "\n",
      "10001\n",
      "10003\n",
      "10005\n",
      "10007 *** 86.4858627319336\n",
      "10009 *** 99.11918640136719\n",
      "10011\n",
      "10013\n",
      "10015\n",
      "10017\n",
      "10019\n",
      "10021\n",
      "10023\n",
      "10025\n",
      "10027\n",
      "10029\n",
      "10031\n",
      "10033\n",
      "10035\n",
      "10037 *** 105.9882640838623\n",
      "10039 *** 105.92007637023926\n",
      "10041\n",
      "10043\n",
      "10045\n",
      "10047\n",
      "10049\n",
      "10051\n",
      "10053\n",
      "10055\n",
      "10057\n",
      "10059\n",
      "10061 *** 110.29767990112305\n",
      "10063\n",
      "10065\n",
      "10067 *** 84.96713638305664\n",
      "10069 *** 75.65784454345703\n",
      "10071\n",
      "10073\n",
      "10075\n",
      "10077\n",
      "10079 *** 108.1550121307373\n",
      "10081\n",
      "10083\n",
      "10085\n",
      "10087\n",
      "10089\n",
      "10091 *** 119.28606033325195\n",
      "10093 *** 255.9349536895752\n",
      "10095\n",
      "10097\n",
      "10099 *** 67.72708892822266"
     ]
    },
    {
     "data": {
      "text/plain": [
       "#f"
      ]
     },
     "execution_count": 68,
     "metadata": {},
     "output_type": "execute_result"
    }
   ],
   "source": [
    "(search-for-primes 10000 10100)"
   ]
  },
  {
   "cell_type": "code",
   "execution_count": 69,
   "metadata": {},
   "outputs": [
    {
     "name": "stdout",
     "output_type": "stream",
     "text": [
      "\n",
      "100001\n",
      "100003 *** 322.96204566955566\n",
      "100005\n",
      "100007\n",
      "100009\n",
      "100011\n",
      "100013\n",
      "100015\n",
      "100017\n",
      "100019 *** 410.10403633117676\n",
      "100021\n",
      "100023\n",
      "100025\n",
      "100027\n",
      "100029\n",
      "100031\n",
      "100033\n",
      "100035\n",
      "100037\n",
      "100039\n",
      "100041\n",
      "100043 *** 238.18397521972656\n",
      "100045\n",
      "100047\n",
      "100049 *** 253.7992000579834\n",
      "100051\n",
      "100053\n",
      "100055\n",
      "100057 *** 243.60203742980957\n",
      "100059\n",
      "100061\n",
      "100063\n",
      "100065\n",
      "100067\n",
      "100069 *** 295.4108715057373\n",
      "100071\n",
      "100073\n",
      "100075\n",
      "100077\n",
      "100079\n",
      "100081\n",
      "100083\n",
      "100085\n",
      "100087\n",
      "100089\n",
      "100091\n",
      "100093\n",
      "100095\n",
      "100097\n",
      "100099"
     ]
    },
    {
     "data": {
      "text/plain": [
       "#f"
      ]
     },
     "execution_count": 69,
     "metadata": {},
     "output_type": "execute_result"
    }
   ],
   "source": [
    "(search-for-primes 100000 100100)"
   ]
  },
  {
   "cell_type": "code",
   "execution_count": 15,
   "metadata": {},
   "outputs": [],
   "source": [
    "(define (av-3 a b c) (/ (+ a b c) 3))"
   ]
  },
  {
   "cell_type": "code",
   "execution_count": 72,
   "metadata": {},
   "outputs": [
    {
     "data": {
      "text/plain": [
       "29.821077982584637"
      ]
     },
     "execution_count": 72,
     "metadata": {},
     "output_type": "execute_result"
    }
   ],
   "source": [
    "(av-3\n",
    "  29.5259952545166\n",
    "  29.17933464050293\n",
    "  30.757904052734375)"
   ]
  },
  {
   "cell_type": "code",
   "execution_count": 73,
   "metadata": {},
   "outputs": [
    {
     "data": {
      "text/plain": [
       "97.1977710723877"
      ]
     },
     "execution_count": 73,
     "metadata": {},
     "output_type": "execute_result"
    }
   ],
   "source": [
    "(av-3\n",
    "  86.4858627319336\n",
    "  99.11918640136719\n",
    "  105.9882640838623)"
   ]
  },
  {
   "cell_type": "code",
   "execution_count": 74,
   "metadata": {},
   "outputs": [
    {
     "data": {
      "text/plain": [
       "323.7500190734863"
      ]
     },
     "execution_count": 74,
     "metadata": {},
     "output_type": "execute_result"
    }
   ],
   "source": [
    "(av-3\n",
    "  322.96204566955566\n",
    "  410.10403633117676\n",
    "  238.18397521972656)"
   ]
  },
  {
   "cell_type": "markdown",
   "metadata": {},
   "source": [
    "`(search-for-primes 1000 1100)`\n",
    "```\n",
    "1009 *** 29.5259952545166\n",
    "1013 *** 29.17933464050293\n",
    "1019 *** 30.757904052734375\n",
    "```\n",
    "average: 29.821077982584637\n",
    "\n",
    "`(search-for-primes 10000 10100)`\n",
    "```\n",
    "10007 *** 86.4858627319336\n",
    "10009 *** 99.11918640136719\n",
    "10037 *** 105.9882640838623\n",
    "```\n",
    "average: 97.1977710723877\n",
    "\n",
    "`(search-for-primes 100000 100100)`\n",
    "```\n",
    "100003 *** 322.96204566955566\n",
    "100019 *** 410.10403633117676\n",
    "100043 *** 238.18397521972656\n",
    "```\n",
    "average: 323.7500190734863"
   ]
  },
  {
   "cell_type": "markdown",
   "metadata": {},
   "source": [
    "If the number to test increase `* 10`, this procedure takes times almost `* √10 (≒ 3.16227766017)` longer. Therefore we may say this procedure has order of growth of O(√n).\n",
    "\n",
    "```s\n",
    "(/ 97.1977710723877 29.821077982584637) \n",
    "; => 3.259364773102794\n",
    "\n",
    "(/ 323.7500190734863 97.1977710723877) \n",
    ";=> 3.3308378937246887\n",
    "```"
   ]
  },
  {
   "cell_type": "markdown",
   "metadata": {},
   "source": [
    "#### Exercise 1.23\n",
    "\n",
    "```s\n",
    "(define (smallest-divisor n)\n",
    "  (define (find-divisor n test)\n",
    "    (cond\n",
    "      ((> (square test) n) n)\n",
    "      ((divides? test n) test)\n",
    "      (else (find-divisor n (+ test 1)))))\n",
    "  (find-divisor n 2))\n",
    "```\n",
    "\n",
    "This implementation is redundant. We don't need to check even number except 2.\n",
    "\n",
    "Define a procedure `next` that returns ...\n",
    "- 3 if its input is 2\n",
    "- input plus 2 if input is even except 2\n",
    "\n",
    "1. implement prime test with `next` procedure\n",
    "2. compare time with previous version \n"
   ]
  },
  {
   "cell_type": "code",
   "execution_count": 6,
   "metadata": {},
   "outputs": [],
   "source": [
    "(define (smallest-divisor2 n)\n",
    "  (define (square n) (* n n))\n",
    "  (define (divides? a b) (= (remainder b a) 0))\n",
    "  (define (next n)\n",
    "    (if (= n 2) 3\n",
    "                (+ n 2)))\n",
    "  (define (find-divisor n test)\n",
    "    (cond\n",
    "      ((> (square test) n) n)\n",
    "      ((divides? test n) test)\n",
    "      (else (find-divisor n (next test)))))\n",
    "  (find-divisor n 2))"
   ]
  },
  {
   "cell_type": "code",
   "execution_count": 7,
   "metadata": {},
   "outputs": [
    {
     "name": "stdout",
     "output_type": "stream",
     "text": [
      "1\n",
      "2\n",
      "7\n",
      "3\n",
      "3\n",
      "37\n"
     ]
    }
   ],
   "source": [
    "(display (format \"~a\\n\" (smallest-divisor2 1)))\n",
    "(display (format \"~a\\n\" (smallest-divisor2 2)))\n",
    "(display (format \"~a\\n\" (smallest-divisor2 7)))\n",
    "(display (format \"~a\\n\" (smallest-divisor2 9)))\n",
    "(display (format \"~a\\n\" (smallest-divisor2 21)))\n",
    "(display (format \"~a\\n\" (smallest-divisor2 37)))"
   ]
  },
  {
   "cell_type": "code",
   "execution_count": 11,
   "metadata": {},
   "outputs": [],
   "source": [
    "(define (timed-prime-test2 n)\n",
    "  (define (prime? n)\n",
    "    (= n (smallest-divisor2 n)))\n",
    "  (define (runtime) (current-time))\n",
    "  (define (start-prime-test n start-time)\n",
    "    (if (prime? n)\n",
    "      (report-prime (- (runtime) start-time))))\n",
    "  (define (report-prime elapsed-time)\n",
    "    (display \" *** \")\n",
    "    (display (* elapsed-time 1000)))\n",
    "\n",
    "  (newline)\n",
    "  (display n)\n",
    "  (start-prime-test n (runtime)))\n"
   ]
  },
  {
   "cell_type": "code",
   "execution_count": 22,
   "metadata": {},
   "outputs": [
    {
     "name": "stdout",
     "output_type": "stream",
     "text": [
      "\n",
      "1009 *** 16.996145248413086<void>\n",
      "1013 *** 16.336917877197266<void>\n",
      "1019 *** 16.31617546081543<void>\n",
      "10007 *** 46.724796295166016<void>\n",
      "10009 *** 43.47085952758789<void>\n",
      "10037 *** 44.152021408081055<void>\n",
      "100003 *** 147.1848487854004<void>\n",
      "100019 *** 142.9271697998047<void>\n",
      "100043 *** 150.0070095062256<void>"
     ]
    }
   ],
   "source": [
    "(display (format \"~a\" (timed-prime-test2 1009)))\n",
    "(display (format \"~a\" (timed-prime-test2 1013)))\n",
    "(display (format \"~a\" (timed-prime-test2 1019)))\n",
    "(display (format \"~a\" (timed-prime-test2 10007)))\n",
    "(display (format \"~a\" (timed-prime-test2 10009)))\n",
    "(display (format \"~a\" (timed-prime-test2 10037)))\n",
    "(display (format \"~a\" (timed-prime-test2 100003)))\n",
    "(display (format \"~a\" (timed-prime-test2 100019)))\n",
    "(display (format \"~a\" (timed-prime-test2 100043)))"
   ]
  },
  {
   "cell_type": "code",
   "execution_count": 23,
   "metadata": {},
   "outputs": [
    {
     "name": "stdout",
     "output_type": "stream",
     "text": [
      "1009: 0.5756332716951575\n",
      "1013: 0.5598797257878696\n",
      "1019: 0.5591688659743274\n",
      "10007: 0.5402593536008469\n",
      "10009: 0.4385715935112668\n",
      "10037: 0.41657462540518775\n",
      "100003: 0.45573419774531393\n",
      "100019: 0.3485144186300688\n",
      "100043: 0.6297947180025145\n"
     ]
    }
   ],
   "source": [
    "(display (format \"1009: ~a\\n\" (/ 16.996145248413086 29.5259952545166)))\n",
    "(display (format \"1013: ~a\\n\" (/ 16.336917877197266 29.17933464050293)))\n",
    "(display (format \"1019: ~a\\n\" (/ 16.31617546081543 29.17933464050293)))\n",
    "\n",
    "(display (format \"10007: ~a\\n\" (/ 46.724796295166016 86.4858627319336)))\n",
    "(display (format \"10009: ~a\\n\" (/ 43.47085952758789 99.11918640136719)))\n",
    "(display (format \"10037: ~a\\n\" (/ 44.152021408081055 105.9882640838623)))\n",
    "\n",
    "(display (format \"100003: ~a\\n\" (/ 147.1848487854004 322.96204566955566)))\n",
    "(display (format \"100019: ~a\\n\" (/ 142.9271697998047 410.10403633117676)))\n",
    "(display (format \"100043: ~a\\n\" (/ 150.0070095062256 238.18397521972656)))\n"
   ]
  },
  {
   "cell_type": "markdown",
   "metadata": {},
   "source": [
    "Now prime test procedure takes almost halv time compare to previous version. Improvement ratio becomes larger as the number becomes larger. I guess it is due to setup time of procedures. The cost of initialization occupies less as the whole number of steps become larger."
   ]
  },
  {
   "cell_type": "markdown",
   "metadata": {},
   "source": [
    "#### Exercise 1.24"
   ]
  },
  {
   "cell_type": "code",
   "execution_count": 53,
   "metadata": {},
   "outputs": [
    {
     "name": "stdout",
     "output_type": "stream",
     "text": [
      "\n",
      "1000001\n",
      "1000003 *** 652.545690536499\n",
      "1000005\n",
      "1000007\n",
      "1000009\n",
      "1000011\n",
      "1000013\n",
      "1000015\n",
      "1000017\n",
      "1000019\n",
      "1000021\n",
      "1000023\n",
      "1000025\n",
      "1000027\n",
      "1000029\n",
      "1000031\n",
      "1000033 *** 779.0577411651611\n",
      "1000035\n",
      "1000037 *** 726.5751361846924\n",
      "1000039 *** 803.3170700073242\n",
      "1000041\n",
      "1000043\n",
      "1000045\n",
      "1000047\n",
      "1000049"
     ]
    },
    {
     "data": {
      "text/plain": [
       "#f"
      ]
     },
     "execution_count": 53,
     "metadata": {},
     "output_type": "execute_result"
    }
   ],
   "source": [
    "(search-for-primes 1000000 1000050)"
   ]
  },
  {
   "cell_type": "code",
   "execution_count": 41,
   "metadata": {},
   "outputs": [],
   "source": [
    "(define (timed-prime-test3 n)\n",
    "  (define (runtime) (current-time))\n",
    "  (define (start-prime-test n start-time)\n",
    "    (if (fermat-test n)\n",
    "      (report-prime (- (runtime) start-time))))\n",
    "  (define (report-prime elapsed-time)\n",
    "    (display \" *** \")\n",
    "    (display (* elapsed-time 1000)))\n",
    "\n",
    "  (newline)\n",
    "  (display n)\n",
    "  (start-prime-test n (runtime)))\n"
   ]
  },
  {
   "cell_type": "code",
   "execution_count": 55,
   "metadata": {},
   "outputs": [
    {
     "name": "stdout",
     "output_type": "stream",
     "text": [
      "\n",
      "1009 *** 14.216899871826172<void>\n",
      "1013 *** 15.447139739990234<void>\n",
      "1019 *** 15.090227127075195<void>\n",
      "1000003 *** 21.270036697387695<void>\n",
      "1000033 *** 23.38695526123047<void>\n",
      "1000037 *** 23.550987243652344<void>"
     ]
    }
   ],
   "source": [
    "(display (format \"~a\" (timed-prime-test3 1009)))\n",
    "(display (format \"~a\" (timed-prime-test3 1013)))\n",
    "(display (format \"~a\" (timed-prime-test3 1019)))\n",
    "(display (format \"~a\" (timed-prime-test3 1000003)))\n",
    "(display (format \"~a\" (timed-prime-test3 1000033)))\n",
    "(display (format \"~a\" (timed-prime-test3 1000037)))"
   ]
  },
  {
   "cell_type": "code",
   "execution_count": 56,
   "metadata": {},
   "outputs": [
    {
     "name": "stdout",
     "output_type": "stream",
     "text": [
      "14.918088912963867\n",
      "22.735993067423504\n"
     ]
    }
   ],
   "source": [
    "(display (format \"~a\\n\" (av-3 14.216899871826172 15.447139739990234 15.090227127075195)))\n",
    "(display (format \"~a\\n\" (av-3 21.270036697387695 23.38695526123047 23.550987243652344)))"
   ]
  },
  {
   "cell_type": "markdown",
   "metadata": {},
   "source": [
    "- log 1000 (= 3) \n",
    "- log 1000000 (= 6)\n",
    "\n",
    "In O(n) description, Scheme needs double steps to calcurate primes near 1,000,000 compare to primes near 1,000.\n",
    "In actual time, it took approximately 1.5 times longer to for primes near 1,000,000."
   ]
  },
  {
   "cell_type": "markdown",
   "metadata": {},
   "source": [
    "#### Exercise 1.25\n",
    "\n",
    "No. Scheme needs amount of memory to calcurate `(fast-exp base exp)`."
   ]
  },
  {
   "cell_type": "code",
   "execution_count": null,
   "metadata": {},
   "outputs": [],
   "source": []
  }
 ],
 "metadata": {
  "kernelspec": {
   "display_name": "Calysto Scheme 3",
   "language": "scheme",
   "name": "calysto_scheme"
  },
  "language_info": {
   "codemirror_mode": {
    "name": "scheme"
   },
   "mimetype": "text/x-scheme",
   "name": "scheme",
   "pygments_lexer": "scheme"
  },
  "orig_nbformat": 4
 },
 "nbformat": 4,
 "nbformat_minor": 2
}

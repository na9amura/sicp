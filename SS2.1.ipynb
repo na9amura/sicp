{
 "cells": [
  {
   "cell_type": "markdown",
   "metadata": {},
   "source": [
    "## 2.1 Introduction to Data Abstraction"
   ]
  },
  {
   "cell_type": "markdown",
   "metadata": {},
   "source": [
    "### 2.1.1 Example: Arithmetic Operations for Rational Numbers"
   ]
  },
  {
   "cell_type": "markdown",
   "metadata": {},
   "source": [
    "- assumptions\n",
    "  - we have\n",
    "    - a way to construct rational number\n",
    "    - a way of extracting its numerator and its denominator\n",
    "  - cunstructors and selectors are available as procedures\n",
    "    - `(make-rat <n> <d>)` returns rational number `n/d`\n",
    "    - `(numer <x>)` returns the numerator of the `x`\n",
    "    - `(denom <x>)` returns the denominator of the `x`\n"
   ]
  },
  {
   "cell_type": "code",
   "execution_count": 1,
   "metadata": {},
   "outputs": [],
   "source": [
    "(define (add-rat x y)\n",
    "  (make-rat (+ (* (numer x) (denom y))\n",
    "               (* (numer y) (denom x)))\n",
    "            (* (denom x) (denom y))))\n",
    "\n",
    "(define (sub-rat x y)\n",
    "  (make-rat (- (* (numer x) (denom y))\n",
    "               (* (numer y) (denom x)))\n",
    "            (* (denom x) (denom y))))\n",
    "\n",
    "(define (mul-rat x y)\n",
    "  (make-rat (* (numer x) (numer y))\n",
    "            (* (denom x) (denom y)))) \n",
    "\n",
    "(define (div-rat x y)\n",
    "  (make-rat (* (numer x) (denom y)) \n",
    "            (* (denom x) (numer y))))"
   ]
  },
  {
   "cell_type": "code",
   "execution_count": 2,
   "metadata": {},
   "outputs": [],
   "source": [
    "(define x (cons 1 2))"
   ]
  },
  {
   "cell_type": "code",
   "execution_count": 3,
   "metadata": {},
   "outputs": [
    {
     "data": {
      "text/plain": [
       "1"
      ]
     },
     "execution_count": 3,
     "metadata": {},
     "output_type": "execute_result"
    }
   ],
   "source": [
    "; contents of address part of register\n",
    "(car x)"
   ]
  },
  {
   "cell_type": "code",
   "execution_count": 4,
   "metadata": {},
   "outputs": [
    {
     "data": {
      "text/plain": [
       "2"
      ]
     },
     "execution_count": 4,
     "metadata": {},
     "output_type": "execute_result"
    }
   ],
   "source": [
    "; contents of decrement part of register\n",
    "(cdr x)"
   ]
  },
  {
   "cell_type": "code",
   "execution_count": 5,
   "metadata": {},
   "outputs": [],
   "source": [
    "(define x (cons 1 2))\n",
    "(define y (cons 3 4))\n",
    "(define z (cons x y))"
   ]
  },
  {
   "cell_type": "code",
   "execution_count": 6,
   "metadata": {},
   "outputs": [
    {
     "data": {
      "text/plain": [
       "1"
      ]
     },
     "execution_count": 6,
     "metadata": {},
     "output_type": "execute_result"
    }
   ],
   "source": [
    "(car (car z))"
   ]
  },
  {
   "cell_type": "code",
   "execution_count": 7,
   "metadata": {},
   "outputs": [
    {
     "data": {
      "text/plain": [
       "3"
      ]
     },
     "execution_count": 7,
     "metadata": {},
     "output_type": "execute_result"
    }
   ],
   "source": [
    "(car (cdr z))"
   ]
  },
  {
   "cell_type": "code",
   "execution_count": 8,
   "metadata": {},
   "outputs": [],
   "source": [
    "(define (make-rat n d) (cons n d))\n",
    "(define (numer x) (car x))\n",
    "(define (denom x) (cdr x))"
   ]
  },
  {
   "cell_type": "code",
   "execution_count": 9,
   "metadata": {},
   "outputs": [],
   "source": [
    "(define (print-rat x)\n",
    "  (display (format \"~a/~a\\n\" (numer x) (denom x))))"
   ]
  },
  {
   "cell_type": "code",
   "execution_count": 10,
   "metadata": {},
   "outputs": [
    {
     "name": "stdout",
     "output_type": "stream",
     "text": [
      "1/2\n"
     ]
    }
   ],
   "source": [
    "(define one-half (make-rat 1 2))\n",
    "(print-rat one-half)"
   ]
  },
  {
   "cell_type": "code",
   "execution_count": 11,
   "metadata": {},
   "outputs": [
    {
     "name": "stdout",
     "output_type": "stream",
     "text": [
      "5/6\n"
     ]
    }
   ],
   "source": [
    "(define one-third (make-rat 1 3))\n",
    "(print-rat (add-rat one-half one-third))"
   ]
  },
  {
   "cell_type": "code",
   "execution_count": 12,
   "metadata": {},
   "outputs": [
    {
     "name": "stdout",
     "output_type": "stream",
     "text": [
      "1/6\n"
     ]
    }
   ],
   "source": [
    "(print-rat (mul-rat one-half one-third))"
   ]
  },
  {
   "cell_type": "code",
   "execution_count": 13,
   "metadata": {},
   "outputs": [
    {
     "name": "stdout",
     "output_type": "stream",
     "text": [
      "6/9\n"
     ]
    }
   ],
   "source": [
    "(print-rat (add-rat one-third one-third))"
   ]
  },
  {
   "cell_type": "markdown",
   "metadata": {},
   "source": [
    "We can reduce rational numbers to lower terms"
   ]
  },
  {
   "cell_type": "code",
   "execution_count": 14,
   "metadata": {},
   "outputs": [],
   "source": [
    "; from ss 1.2\n",
    "(define (gcd a b)\n",
    "  (if (= b 0)\n",
    "    a\n",
    "    (gcd b (remainder a b))))"
   ]
  },
  {
   "cell_type": "code",
   "execution_count": 15,
   "metadata": {},
   "outputs": [],
   "source": [
    "; new `make-rat` procedure which recudes to lowest terms\n",
    "(define (make-rat n d)\n",
    "  (let ((g (gcd n d)))\n",
    "    (cons (/ n g) (/ d g))))"
   ]
  },
  {
   "cell_type": "code",
   "execution_count": 16,
   "metadata": {},
   "outputs": [
    {
     "name": "stdout",
     "output_type": "stream",
     "text": [
      "2/3\n"
     ]
    }
   ],
   "source": [
    "(print-rat (add-rat one-third one-third))"
   ]
  },
  {
   "cell_type": "markdown",
   "metadata": {},
   "source": [
    "#### Exercise 2.1: Define a better version of make-rat"
   ]
  },
  {
   "cell_type": "code",
   "execution_count": 17,
   "metadata": {},
   "outputs": [
    {
     "name": "stdout",
     "output_type": "stream",
     "text": [
      "----------------------\n",
      "input: n: 1, d: 3\n",
      "  gcd: 1\n",
      "  lt_n: 1, lt_d: 3\n",
      "----------------------\n",
      "input: n: 1, d: -3\n",
      "  gcd: -1\n",
      "  lt_n: -1, lt_d: 3\n",
      "----------------------\n",
      "input: n: -1, d: 3\n",
      "  gcd: 1\n",
      "  lt_n: -1, lt_d: 3\n",
      "----------------------\n",
      "input: n: -1, d: -3\n",
      "  gcd: -1\n",
      "  lt_n: 1, lt_d: 3\n"
     ]
    }
   ],
   "source": [
    "(define (make-rat n d)\n",
    "  (let ((g (gcd n d)))\n",
    "    (let ((lt_n (/ n g))\n",
    "          (lt_d (/ d g)))\n",
    "      (display \"----------------------\\n\")\n",
    "      (display (format \"input: n: ~a, d: ~a\\n\" n d))\n",
    "      (display (format \"  gcd: ~a\\n\" g))\n",
    "      (display (format \"  lt_n: ~a, lt_d: ~a\\n\" lt_n lt_d)))))\n",
    "\n",
    "(make-rat 1 3)\n",
    "(make-rat 1 -3)\n",
    "(make-rat -1 3)\n",
    "(make-rat -1 -3)"
   ]
  },
  {
   "cell_type": "code",
   "execution_count": 18,
   "metadata": {},
   "outputs": [],
   "source": [
    "; thanks to result of gcd, it becomes negative when denominator is negative\n",
    "; , I just need to calc lowest terms\n",
    "(define (make-rat n d)\n",
    "  (let ((g (gcd n d)))\n",
    "    (let ((lt_n (/ n g))\n",
    "          (lt_d (/ d g)))\n",
    "      (cons lt_n lt_d))))"
   ]
  },
  {
   "cell_type": "code",
   "execution_count": 19,
   "metadata": {},
   "outputs": [
    {
     "name": "stdout",
     "output_type": "stream",
     "text": [
      "1/3\n",
      "-1/3\n",
      "-1/3\n",
      "1/3\n"
     ]
    }
   ],
   "source": [
    "(print-rat (make-rat 1 3))\n",
    "(print-rat (make-rat 1 -3))\n",
    "(print-rat (make-rat -1 3))\n",
    "(print-rat (make-rat -1 -3))"
   ]
  },
  {
   "cell_type": "markdown",
   "metadata": {},
   "source": [
    "### 2.1.2 Abstraction Barriers"
   ]
  },
  {
   "cell_type": "markdown",
   "metadata": {},
   "source": [
    "#### Exercise 2.2: Consider the problem of representing line segments in a plane\n",
    "- define procedures for line\n",
    "  - constructor `make-segment`\n",
    "  - selectors\n",
    "    - `start-segment`\n",
    "    - `end-segment`\n",
    "- define procedures for coordinates\n",
    "  - constructor `make-point`\n",
    "  - selectors\n",
    "    - `x-point`\n",
    "    - `y-point`\n",
    "- define a procedure receives segment as argument\n",
    "  - `midpoint-segment`\n",
    "- use `print-point`\n",
    "  ```s\n",
    "  (define (print-point p) \n",
    "    (newline)\n",
    "    (display \"(\") \n",
    "    (display (x-point p))\n",
    "    (display \",\")\n",
    "    (display (y-point p))\n",
    "    (display \")\")) \n",
    "  ```"
   ]
  },
  {
   "cell_type": "code",
   "execution_count": 20,
   "metadata": {},
   "outputs": [],
   "source": [
    "(define (print-point p) \n",
    "  (display (format \"(~a, ~a)\\n\" (x-point p) (y-point p))))"
   ]
  },
  {
   "cell_type": "code",
   "execution_count": 21,
   "metadata": {},
   "outputs": [],
   "source": [
    "(define (x-point p) (car p))\n",
    "(define (y-point p) (cdr p))\n",
    "(define (make-point x y) (cons x y))"
   ]
  },
  {
   "cell_type": "code",
   "execution_count": 22,
   "metadata": {},
   "outputs": [],
   "source": [
    "(define (start-segment l) (car l))\n",
    "(define (end-segment l) (cdr l))\n",
    "(define (make-segment start end) (cons start end))"
   ]
  },
  {
   "cell_type": "code",
   "execution_count": 23,
   "metadata": {},
   "outputs": [],
   "source": [
    "(define (midpoint-segment segment)\n",
    "  (let ((start (start-segment segment))\n",
    "        (end (end-segment segment)))\n",
    "        (let ((x_1 (x-point start))\n",
    "              (x_2 (x-point end))\n",
    "              (y_1 (y-point start))\n",
    "              (y_2 (y-point end)))\n",
    "              (let ((x_len (+ x_2 x_1))\n",
    "                    (y_len (+ y_2 y_1)))\n",
    "                    (let ((x_mid (/ x_len 2))\n",
    "                          (y_mid (/ y_len 2)))\n",
    "                          (make-point x_mid y_mid))))))"
   ]
  },
  {
   "cell_type": "code",
   "execution_count": 24,
   "metadata": {},
   "outputs": [
    {
     "name": "stdout",
     "output_type": "stream",
     "text": [
      "(2, 2)\n",
      "(-2, -3)\n",
      "(3, 0)\n"
     ]
    }
   ],
   "source": [
    "(define start (make-point 0 0))\n",
    "(define end (make-point 4 4))\n",
    "(define segment (make-segment start end))\n",
    "(print-point (midpoint-segment segment))\n",
    "\n",
    "(define start (make-point -1 -1))\n",
    "(define end (make-point -3 -5))\n",
    "(define segment (make-segment start end))\n",
    "(print-point (midpoint-segment segment))\n",
    "\n",
    "(define start (make-point 1 5))\n",
    "(define end (make-point 5 -5))\n",
    "(define segment (make-segment start end))\n",
    "(print-point (midpoint-segment segment))"
   ]
  },
  {
   "cell_type": "code",
   "execution_count": 25,
   "metadata": {},
   "outputs": [],
   "source": [
    "(define (midpoint-segment segment)\n",
    "  (define (average a b)\n",
    "    (/ (+ a b) 2))\n",
    "  (let ((start (start-segment segment))\n",
    "        (end (end-segment segment)))\n",
    "        (let ((x_1 (x-point start))\n",
    "              (x_2 (x-point end))\n",
    "              (y_1 (y-point start))\n",
    "              (y_2 (y-point end)))\n",
    "              (let ((x_mid (average x_2 x_1))\n",
    "                    (y_mid (average y_2 y_1)))\n",
    "                    (make-point x_mid y_mid)))))"
   ]
  },
  {
   "cell_type": "code",
   "execution_count": 26,
   "metadata": {},
   "outputs": [
    {
     "name": "stdout",
     "output_type": "stream",
     "text": [
      "(2, 2)\n",
      "(-2, -3)\n",
      "(3, 0)\n"
     ]
    }
   ],
   "source": [
    "(define start (make-point 0 0))\n",
    "(define end (make-point 4 4))\n",
    "(define segment (make-segment start end))\n",
    "(print-point (midpoint-segment segment))\n",
    "\n",
    "(define start (make-point -1 -1))\n",
    "(define end (make-point -3 -5))\n",
    "(define segment (make-segment start end))\n",
    "(print-point (midpoint-segment segment))\n",
    "\n",
    "(define start (make-point 1 5))\n",
    "(define end (make-point 5 -5))\n",
    "(define segment (make-segment start end))\n",
    "(print-point (midpoint-segment segment))"
   ]
  },
  {
   "cell_type": "markdown",
   "metadata": {},
   "source": [
    "#### Exercise 2.3: Implement a representation for rectangles\n",
    "- Implement constructors and selectors for rectangles\n",
    "- Create procedures that compute these of a given rectangle\n",
    "  - the perimeter \n",
    "  - the area"
   ]
  },
  {
   "cell_type": "code",
   "execution_count": 27,
   "metadata": {},
   "outputs": [],
   "source": [
    "(define (make-rect a b c d)\n",
    "  (let ((width (make-segment a b))\n",
    "        (height (make-segment a c)))\n",
    "        (cons width height)))"
   ]
  },
  {
   "cell_type": "code",
   "execution_count": 28,
   "metadata": {},
   "outputs": [],
   "source": [
    "(define (rect-perimeter rect)\n",
    "  (* 2 (+ (rect-height rect) (rect-width rect))))"
   ]
  },
  {
   "cell_type": "code",
   "execution_count": 29,
   "metadata": {},
   "outputs": [],
   "source": [
    "(define (rect-area rect)\n",
    "  (* (rect-height rect) (rect-width rect)))"
   ]
  },
  {
   "cell_type": "code",
   "execution_count": 30,
   "metadata": {},
   "outputs": [],
   "source": [
    "(define (square x) (* x x))\n",
    "(define (srqt x)\n",
    "  (define (sqrt-iter guess x)\n",
    "    (if (good-enough? guess x)\n",
    "        guess\n",
    "        (sqrt-iter (improve guess x) x)))\n",
    "  (sqrt-iter 1.0 x))\n",
    "\n",
    "(define (seg-length seg)\n",
    "  (let ((start (start-segment seg))\n",
    "        (end (end-segment seg)))\n",
    "        (let ((x_1 (x-point start))\n",
    "              (x_2 (x-point end))\n",
    "              (y_1 (y-point start))\n",
    "              (y_2 (y-point end)))\n",
    "              ; (display (format \"x_1: ~a, x_2: ~a, y_1: ~a, y_2: ~a\\n\" x_1 x_2 y_1 y_2))\n",
    "              (sqrt (+ (square (- x_2 x_1)) (square (- y_2 y_1)))))))\n",
    "\n",
    "(define (rect-height rect) \n",
    "  (seg-length (car rect)))\n",
    "\n",
    "(define (rect-width rect)\n",
    "  (seg-length (cdr rect)))"
   ]
  },
  {
   "cell_type": "code",
   "execution_count": 31,
   "metadata": {},
   "outputs": [
    {
     "name": "stdout",
     "output_type": "stream",
     "text": [
      "(((0 . 0) 4 . 0) (0 . 0) 0 . 6)\n",
      "((0 . 0) 4 . 0)\n",
      "((0 . 0) 0 . 6)"
     ]
    }
   ],
   "source": [
    "(define rect_a (make-rect\n",
    "  (make-point 0 0)\n",
    "  (make-point 4 0)\n",
    "  (make-point 0 6)\n",
    "  (make-point 4 6)))\n",
    "\n",
    "(display rect_a)\n",
    "(newline)\n",
    "(display (car rect_a))\n",
    "(newline)\n",
    "(display (cdr rect_a))"
   ]
  },
  {
   "cell_type": "code",
   "execution_count": 32,
   "metadata": {},
   "outputs": [
    {
     "name": "stdout",
     "output_type": "stream",
     "text": [
      "4.0\n",
      "6.0"
     ]
    }
   ],
   "source": [
    "(display (rect-height rect_a))\n",
    "(newline)\n",
    "(display (rect-width rect_a))"
   ]
  },
  {
   "cell_type": "code",
   "execution_count": 33,
   "metadata": {},
   "outputs": [
    {
     "data": {
      "text/plain": [
       "20.0"
      ]
     },
     "execution_count": 33,
     "metadata": {},
     "output_type": "execute_result"
    }
   ],
   "source": [
    "(rect-perimeter rect_a)"
   ]
  },
  {
   "cell_type": "code",
   "execution_count": 34,
   "metadata": {},
   "outputs": [
    {
     "data": {
      "text/plain": [
       "24.0"
      ]
     },
     "execution_count": 34,
     "metadata": {},
     "output_type": "execute_result"
    }
   ],
   "source": [
    "(rect-area rect_a)"
   ]
  },
  {
   "cell_type": "markdown",
   "metadata": {},
   "source": [
    "### 2.1.3 What Is Meant by Data?\n",
    "\n",
    "It is not enough to say “whatever is implemented by the given selectors and constructors.”\n",
    "\n",
    "we can think of data as defined by some collection of selectors and constructors, together with specified conditions that these procedures must fulfill in order to be a valid representation.\n",
    "\n",
    "This point of view can also serve to define lower-level objects such as `cons`, `car` and `cdr`.\n",
    "\n",
    "In cons list, we need to know\n",
    "- glue two objects using `cons`\n",
    "- retreive the objects using `car` and `cdr`"
   ]
  },
  {
   "cell_type": "code",
   "execution_count": 35,
   "metadata": {},
   "outputs": [],
   "source": [
    "(define (my-cons x y)\n",
    "  (define (dispatch m)\n",
    "    (cond ((= m 0) x)\n",
    "          ((= m 1) y)\n",
    "          (else (error \"Argument not 0 or 1: CONS\" m))))\n",
    "  dispatch) ; <= returns procedure which receive 0 or 1\n",
    "(define (my-car z) (z 0))\n",
    "(define (my-cdr z) (z 1))"
   ]
  },
  {
   "cell_type": "code",
   "execution_count": 36,
   "metadata": {},
   "outputs": [
    {
     "data": {
      "text/plain": [
       "\"(my-car p): 1, (my-cdr p): 2\""
      ]
     },
     "execution_count": 36,
     "metadata": {},
     "output_type": "execute_result"
    }
   ],
   "source": [
    "(define p (my-cons 1 2))\n",
    "(format \"(my-car p): ~a, (my-cdr p): ~a\" (my-car p) (my-cdr p))"
   ]
  },
  {
   "cell_type": "markdown",
   "metadata": {},
   "source": [
    "#### Exercise 2.4: alternative procedural representation of pairs\n",
    "\n",
    "```s\n",
    "(define (cons x y)\n",
    "  (lambda (m) (m x y)))\n",
    "(define (car z)\n",
    "  (z (lambda (p q) p)))\n",
    "```\n",
    "\n",
    "- What is the corresponding definition of `cdr`?"
   ]
  },
  {
   "cell_type": "code",
   "execution_count": 37,
   "metadata": {},
   "outputs": [],
   "source": [
    "(define (my-cons2 x y)\n",
    "  (lambda (m) (m x y)))\n",
    "(define (my-car2 z)\n",
    "  (z (lambda (p q) p)))"
   ]
  },
  {
   "cell_type": "code",
   "execution_count": 38,
   "metadata": {},
   "outputs": [],
   "source": [
    "(define (my-cdr2 z)\n",
    "  (z (lambda (p q) q)))"
   ]
  },
  {
   "cell_type": "code",
   "execution_count": 39,
   "metadata": {},
   "outputs": [
    {
     "data": {
      "text/plain": [
       "\"(my-car2 p): 1, (my-cdr2 p): 2\""
      ]
     },
     "execution_count": 39,
     "metadata": {},
     "output_type": "execute_result"
    }
   ],
   "source": [
    "(define p (my-cons2 1 2))\n",
    "(format \"(my-car2 p): ~a, (my-cdr2 p): ~a\" (my-car2 p) (my-cdr2 p))"
   ]
  },
  {
   "cell_type": "markdown",
   "metadata": {},
   "source": [
    "#### Exercise 2.5: \n",
    "- represent pairs of non-negative integers\n",
    "- using only numbers and arithemic operations\n",
    "\n",
    "- by `2^a * 3^b`"
   ]
  },
  {
   "cell_type": "code",
   "execution_count": 40,
   "metadata": {},
   "outputs": [],
   "source": [
    "; from ss 1.2\n",
    "(define (fast-exp b n)\n",
    "  (define (square n) (* n n))\n",
    "  (define (exp b n)\n",
    "    (cond \n",
    "      ((= n 0) 1)\n",
    "      ((even? n) (square (exp b (/ n 2))))\n",
    "      (else (* b (exp b (- n 1))))))\n",
    "  (exp b n))"
   ]
  },
  {
   "cell_type": "code",
   "execution_count": 41,
   "metadata": {},
   "outputs": [
    {
     "name": "stdout",
     "output_type": "stream",
     "text": [
      "648"
     ]
    }
   ],
   "source": [
    "(define (num-cons a b)\n",
    "  (* (fast-exp 2 a) (fast-exp 3 b)))\n",
    "(define p (num-cons 3 4))\n",
    "(display p)"
   ]
  },
  {
   "cell_type": "code",
   "execution_count": 42,
   "metadata": {},
   "outputs": [],
   "source": [
    "(define (div3-iter n)\n",
    "  (display (format \"n: ~a\\n\" n))\n",
    "  (if (= (% n 3) 0)\n",
    "      (div3-iter (/ n 3))\n",
    "      n))"
   ]
  },
  {
   "cell_type": "code",
   "execution_count": 43,
   "metadata": {},
   "outputs": [
    {
     "name": "stdout",
     "output_type": "stream",
     "text": [
      "n: 648\n",
      "n: 216\n",
      "n: 72\n",
      "n: 24\n",
      "n: 8\n"
     ]
    },
    {
     "data": {
      "text/plain": [
       "8"
      ]
     },
     "execution_count": 43,
     "metadata": {},
     "output_type": "execute_result"
    }
   ],
   "source": [
    "(div3-iter p)"
   ]
  },
  {
   "cell_type": "code",
   "execution_count": 44,
   "metadata": {},
   "outputs": [],
   "source": [
    "(define (count-div2 n count)\n",
    "  (display (format \"n: ~a, count: ~a\\n\" n count))\n",
    "  (if (= n 1)\n",
    "      count\n",
    "      (count-div2 (/ n 2) (+ count 1))))"
   ]
  },
  {
   "cell_type": "code",
   "execution_count": 45,
   "metadata": {},
   "outputs": [
    {
     "name": "stdout",
     "output_type": "stream",
     "text": [
      "n: 8, count: 0\n",
      "n: 4, count: 1\n",
      "n: 2, count: 2\n",
      "n: 1, count: 3\n"
     ]
    },
    {
     "data": {
      "text/plain": [
       "3"
      ]
     },
     "execution_count": 45,
     "metadata": {},
     "output_type": "execute_result"
    }
   ],
   "source": [
    "(count-div2 8 0)"
   ]
  },
  {
   "cell_type": "code",
   "execution_count": 46,
   "metadata": {},
   "outputs": [],
   "source": [
    "(define (num-car x)\n",
    "  (count-div2 (div3-iter x) 0))"
   ]
  },
  {
   "cell_type": "code",
   "execution_count": 47,
   "metadata": {},
   "outputs": [
    {
     "name": "stdout",
     "output_type": "stream",
     "text": [
      "n: 648\n",
      "n: 216\n",
      "n: 72\n",
      "n: 24\n",
      "n: 8\n",
      "n: 8, count: 0\n",
      "n: 4, count: 1\n",
      "n: 2, count: 2\n",
      "n: 1, count: 3\n"
     ]
    },
    {
     "data": {
      "text/plain": [
       "3"
      ]
     },
     "execution_count": 47,
     "metadata": {},
     "output_type": "execute_result"
    }
   ],
   "source": [
    "(num-car p)"
   ]
  },
  {
   "cell_type": "code",
   "execution_count": 48,
   "metadata": {},
   "outputs": [],
   "source": [
    "; pass divisor to reuse procedure\n",
    "(define (div-iter n divisor)\n",
    "  (define (iter n)\n",
    "    (if (= (% n divisor) 0)\n",
    "        (iter (/ n divisor))\n",
    "        n))\n",
    "  (iter n))\n",
    "(define (count-div-iter n divisor count)\n",
    "  (define (iter n count)\n",
    "    (if (= n 1)\n",
    "        count\n",
    "        (iter (/ n divisor) (+ count 1))))\n",
    "  (iter n count))\n",
    "\n",
    "(define (num-car x)\n",
    "  (count-div-iter (div-iter x 3) 2 0))\n",
    "(define (num-cdr x)\n",
    "  (count-div-iter (div-iter x 2) 3 0))"
   ]
  },
  {
   "cell_type": "code",
   "execution_count": 49,
   "metadata": {},
   "outputs": [
    {
     "data": {
      "text/plain": [
       "3"
      ]
     },
     "execution_count": 49,
     "metadata": {},
     "output_type": "execute_result"
    }
   ],
   "source": [
    "(num-car p)"
   ]
  },
  {
   "cell_type": "code",
   "execution_count": 50,
   "metadata": {},
   "outputs": [
    {
     "data": {
      "text/plain": [
       "4"
      ]
     },
     "execution_count": 50,
     "metadata": {},
     "output_type": "execute_result"
    }
   ],
   "source": [
    "(num-cdr p)"
   ]
  },
  {
   "cell_type": "code",
   "execution_count": 56,
   "metadata": {},
   "outputs": [],
   "source": [
    "; I didn't need to calc other side\n",
    "(define (count-div-iter n divisor count)\n",
    "  (define (iter n count)\n",
    "    (display (format \"n: ~a, count: ~a\\n\" n count))\n",
    "    (if (not (= (% n divisor) 0))\n",
    "        count\n",
    "        (iter (/ n divisor) (+ count 1))))\n",
    "  (iter n count))\n",
    "\n",
    "(define (num-car x)\n",
    "  (count-div-iter x 2 0))\n",
    "(define (num-cdr x)\n",
    "  (count-div-iter x 3 0))"
   ]
  },
  {
   "cell_type": "code",
   "execution_count": 57,
   "metadata": {},
   "outputs": [
    {
     "name": "stdout",
     "output_type": "stream",
     "text": [
      "n: 648, count: 0\n",
      "n: 324, count: 1\n",
      "n: 162, count: 2\n",
      "n: 81, count: 3\n"
     ]
    },
    {
     "data": {
      "text/plain": [
       "3"
      ]
     },
     "execution_count": 57,
     "metadata": {},
     "output_type": "execute_result"
    }
   ],
   "source": [
    "(num-car p)"
   ]
  },
  {
   "cell_type": "code",
   "execution_count": 58,
   "metadata": {},
   "outputs": [
    {
     "name": "stdout",
     "output_type": "stream",
     "text": [
      "n: 648, count: 0\n",
      "n: 216, count: 1\n",
      "n: 72, count: 2\n",
      "n: 24, count: 3\n",
      "n: 8, count: 4\n"
     ]
    },
    {
     "data": {
      "text/plain": [
       "4"
      ]
     },
     "execution_count": 58,
     "metadata": {},
     "output_type": "execute_result"
    }
   ],
   "source": [
    "(num-cdr p)"
   ]
  },
  {
   "cell_type": "markdown",
   "metadata": {},
   "source": [
    "#### Exercise 2.6: Church numerals (skipped)\n",
    "- Define one and two directly\n",
    "- Give a direct definition of the addition procedure `+`"
   ]
  },
  {
   "cell_type": "code",
   "execution_count": 62,
   "metadata": {},
   "outputs": [],
   "source": [
    "(define zero (lambda (f) (lambda (x) x)))\n",
    "(define (add-1 n)\n",
    "  (lambda (f) (lambda (x) (f ((n f) x)))))"
   ]
  },
  {
   "cell_type": "code",
   "execution_count": 73,
   "metadata": {},
   "outputs": [
    {
     "data": {
      "text/plain": [
       "1"
      ]
     },
     "execution_count": 73,
     "metadata": {},
     "output_type": "execute_result"
    }
   ],
   "source": [
    "((zero 9999) 1)"
   ]
  },
  {
   "cell_type": "markdown",
   "metadata": {},
   "source": [
    "```s\n",
    "(add-1 zero)\n",
    "-> (lambda (f) (lambda (x) (f ((zero f) x))))\n",
    "-> (lambda (f) (lambda (x) (f ((lambda (xz) xz) x))))\n",
    "```\n",
    "\n",
    "```s\n",
    "(add-1 (add-1 zero))\n",
    "-> (add-1 (lambda (f) (lambda (x) (f ((zero f) x)))))\n",
    "-> (add-1 (lambda (f) (lambda (x) (f ((zero f) x)))))\n",
    "```"
   ]
  },
  {
   "cell_type": "markdown",
   "metadata": {},
   "source": [
    "### 2.1.4 Extended Exercise: Interval Arithmetic\n",
    "\n",
    "Alyssa's system\n",
    "\n",
    "- abiluty to manipurate inexact quantities with known precision\n",
    "- Assume using Alyssa's system to compoute electrical quantities\n",
    "  - compute value of a parallel equivalent resistance R_p of two resistors R_1, R_2\n",
    "    ```\n",
    "    R_p = 1 / (1/R_1 + 1/R_2)\n",
    "    ```\n",
    "  - Tolerance guranteed\n",
    "    - such as \"6.8 ohms with 10% torelance\"\n",
    "      - 6.8 ± 0.68 = 6.12 .. 7.48\n",
    "- \"interval arithmetic\"\n",
    "  - Calucrating intervals -> The result also should be interval\n"
   ]
  },
  {
   "cell_type": "code",
   "execution_count": 2,
   "metadata": {},
   "outputs": [],
   "source": [
    "(define (add-interval x y)\n",
    "  (make-interval (+ (lower-bound x) (lower-bound y))\n",
    "                 (+ (upper-bound x) (upper-bound y))))"
   ]
  },
  {
   "cell_type": "code",
   "execution_count": 17,
   "metadata": {},
   "outputs": [],
   "source": [
    "(define (mul-interval x y)\n",
    "  (let ((p1 (* (lower-bound x) (lower-bound y)))\n",
    "        (p2 (* (lower-bound x) (upper-bound y)))\n",
    "        (p3 (* (upper-bound x) (lower-bound y)))\n",
    "        (p4 (* (upper-bound x) (upper-bound y))))\n",
    "      (make-interval (min p1 p2 p3 p4)\n",
    "                     (max p1 p2 p3 p4))))"
   ]
  },
  {
   "cell_type": "code",
   "execution_count": 3,
   "metadata": {},
   "outputs": [],
   "source": [
    "(define (div-interval x y)\n",
    "  (mul-interval\n",
    "    x\n",
    "    (make-interval (/ 1.0 (upper-bound y))\n",
    "                   (/ 1.0 (lower-bound y)))))"
   ]
  },
  {
   "cell_type": "markdown",
   "metadata": {},
   "source": [
    "#### Exercise 2.7\n",
    "Define selectors `upper-bound` and `lower-bound`"
   ]
  },
  {
   "cell_type": "code",
   "execution_count": 4,
   "metadata": {},
   "outputs": [],
   "source": [
    "(define (make-interval a b) (cons a b))"
   ]
  },
  {
   "cell_type": "code",
   "execution_count": 6,
   "metadata": {},
   "outputs": [],
   "source": [
    "(define (upper-bound c)\n",
    "  (max (car c) (cdr c)))"
   ]
  },
  {
   "cell_type": "code",
   "execution_count": 7,
   "metadata": {},
   "outputs": [],
   "source": [
    "(define (lower-bound c)\n",
    "  (min (car c) (cdr c)))"
   ]
  },
  {
   "cell_type": "code",
   "execution_count": 8,
   "metadata": {},
   "outputs": [
    {
     "data": {
      "text/plain": [
       "(6.62 . 8.48)"
      ]
     },
     "execution_count": 8,
     "metadata": {},
     "output_type": "execute_result"
    }
   ],
   "source": [
    "(add-interval\n",
    "  (make-interval 6.12 7.48)\n",
    "  (make-interval 0.5 1))"
   ]
  },
  {
   "cell_type": "markdown",
   "metadata": {},
   "source": [
    "#### Exercise 2.8\n",
    "Define `sub-interval`"
   ]
  },
  {
   "cell_type": "markdown",
   "metadata": {},
   "source": [
    "x = x_1 .. x_2\n",
    "y = y_1 .. y_2\n",
    "\n",
    "Combinations\n",
    "- x_1 - y_1\n",
    "- x_1 - y_2\n",
    "- x_2 - y_1\n",
    "- x_2 - y_2\n",
    "\n",
    "Comparison1\n",
    "(x_1 - y_1) > (x_1 - y_2)\n",
    "(x_2 - y_1) > (x_2 - y_2)\n",
    "\n",
    "\n",
    "Comparison2\n",
    "(x_1 - y_1) < (x_2 - y_1)\n",
    "  <- because x_1 < x_2\n",
    "\n",
    "with Comparison1 and 2\n",
    "-> (x_2 - y_1) > (x_1 - y_2)\n",
    "\n",
    "I can say (x_2 - y_1) is the upper bound and (x_1 - y_2) is the lower bound"
   ]
  },
  {
   "cell_type": "code",
   "execution_count": 10,
   "metadata": {},
   "outputs": [],
   "source": [
    "(define (sub-interval x y)\n",
    "  (make-interval (- (lower-bound x) (upper-bound y))\n",
    "                 (- (upper-bound x) (lower-bound y))))"
   ]
  },
  {
   "cell_type": "code",
   "execution_count": 11,
   "metadata": {},
   "outputs": [
    {
     "data": {
      "text/plain": [
       "(5.12 . 6.98)"
      ]
     },
     "execution_count": 11,
     "metadata": {},
     "output_type": "execute_result"
    }
   ],
   "source": [
    "(sub-interval\n",
    "  (make-interval 6.12 7.48)\n",
    "  (make-interval 0.5 1))"
   ]
  },
  {
   "cell_type": "markdown",
   "metadata": {},
   "source": [
    "#### Exercise 2.9: The *witdh* of an interval\n",
    "\n",
    "- Half of the difference between upper and lower bounds\n",
    "- Show that the width of the sum of two intervals is a function only of the widths of the intervals being added\n",
    "- Give examples to show that this is not true for multiplication or division."
   ]
  },
  {
   "cell_type": "markdown",
   "metadata": {},
   "source": [
    "```s\n",
    "(define x (make-interval 6.12 7.48))\n",
    "(define y (make-interval 0.5 1))\n",
    "(add-interval x y)\n",
    "; -> (6.62 . 8.48)\n",
    "```\n",
    "In this case, width of `x` is `0.68`, of `y` is `0.25` and of result is `0.93`.\n",
    "\n",
    "For input\n",
    "interval `x`, average: `x_m` width: `x_d` -> `x_m - x_d .. x_m + x_d`\n",
    "interval `y`, average: `y_m` width: `y_d` -> `y_m - y_d .. y_m + y_d`\n",
    "\n",
    "\n",
    "```s\n",
    "(sum-interval x y)\n",
    "=> (make-interval (+ (lower-bound x) (lower-bound y)) (+ (upper-bound x) (upper-bound y)))\n",
    "=> (make-interval (+ (- x_m x_d) (- y_m y_d)) (+ (+ x_m x_d) (+ y_m y_d)))\n",
    "=> (make-interval (- (+ x_m y_m) (+ x_d y_d)) (+ (+ x_m y_m) (+ x_d y_d)))\n",
    "```\n",
    "\n",
    "=>  average: `x_m + y_m` width: `x_d + y_d`\n"
   ]
  },
  {
   "cell_type": "markdown",
   "metadata": {},
   "source": [
    "#### Exercise 2.10"
   ]
  },
  {
   "cell_type": "code",
   "execution_count": 37,
   "metadata": {},
   "outputs": [],
   "source": [
    "(define (div-interval x y)\n",
    "  (let ((ub-y (upper-bound y))\n",
    "        (lb-y (lower-bound y)))\n",
    "    (if (or (= ub-y 0) (= lb-y 0))\n",
    "        (error \"divide by zero\" (format \"~a\" y))\n",
    "        (mul-interval\n",
    "          x\n",
    "          (make-interval (/ 1.0 ub-y)\n",
    "                         (/ 1.0 lb-y))))))"
   ]
  },
  {
   "cell_type": "code",
   "execution_count": 38,
   "metadata": {},
   "outputs": [
    {
     "data": {
      "text/plain": [
       "(6.12 . 14.96)"
      ]
     },
     "execution_count": 38,
     "metadata": {},
     "output_type": "execute_result"
    }
   ],
   "source": [
    "(div-interval\n",
    "  (make-interval 6.12 7.48)\n",
    "  (make-interval 0.5 1))"
   ]
  },
  {
   "cell_type": "code",
   "execution_count": 39,
   "metadata": {},
   "outputs": [
    {
     "name": "stderr",
     "output_type": "stream",
     "text": [
      "\u001b[0;31m\n",
      "Traceback (most recent call last):\n",
      "  File \"In [39]\", line 1, col 1, in 'div-interval'\n",
      "  File \"In [37]\", line 2, col 3, in 'let'\n",
      "  File \"In [37]\", line 5, col 9, in 'error'\n",
      "  File \"In [37]\", line 5, col 9\n",
      "RunTimeError: Error in 'divide by zero': (0 . 1)\n",
      "\n",
      "\u001b[0m"
     ]
    }
   ],
   "source": [
    "(div-interval\n",
    "  (make-interval 6.12 7.48)\n",
    "  (make-interval 0 1))"
   ]
  },
  {
   "cell_type": "code",
   "execution_count": 40,
   "metadata": {},
   "outputs": [
    {
     "name": "stderr",
     "output_type": "stream",
     "text": [
      "\u001b[0;31m\n",
      "Traceback (most recent call last):\n",
      "  File \"In [40]\", line 1, col 1, in 'div-interval'\n",
      "  File \"In [37]\", line 2, col 3, in 'let'\n",
      "  File \"In [37]\", line 5, col 9, in 'error'\n",
      "  File \"In [37]\", line 5, col 9\n",
      "RunTimeError: Error in 'divide by zero': (-1 . 0)\n",
      "\n",
      "\u001b[0m"
     ]
    }
   ],
   "source": [
    "(div-interval\n",
    "  (make-interval 6.12 7.48)\n",
    "  (make-interval -1 0))"
   ]
  },
  {
   "cell_type": "markdown",
   "metadata": {},
   "source": [
    "#### Exercise 2.11"
   ]
  },
  {
   "cell_type": "markdown",
   "metadata": {},
   "source": [
    "| No. \\ sign | lb x | ub x | lb y | ub y | | lb          | ub          |\n",
    "|------------|------|------|------|------|-|-------------|-------------|\n",
    "| 1          |  +   |  +   |  +   |  +   | | lb_x * lb_y | ub_x * ub_y |\n",
    "| 2          |  -   |  +   |  +   |  +   | | lb_x * ub_y | ub_x * ub_y | \n",
    "| 3          |  -   |  -   |  +   |  +   | | lb_x * ub_y | ub_x * lb_y |\n",
    "| 4          |  +   |  +   |  -   |  +   | | ub_x * lb_y | ub_x * ub_y |\n",
    "| 5          |  +   |  +   |  -   |  -   | | ub_x * lb_y | lb_x * ub_y |\n",
    "| 6          |  -   |  +   |  -   |  +   | |             |             |\n",
    "| 7          |  -   |  +   |  -   |  -   | |             |             |\n",
    "| 8          |  -   |  -   |  -   |  +   | |             |             |\n",
    "| 9          |  -   |  -   |  -   |  -   | | ub_x * ub_y | lb_x * lb_y |"
   ]
  },
  {
   "cell_type": "code",
   "execution_count": null,
   "metadata": {},
   "outputs": [],
   "source": []
  }
 ],
 "metadata": {
  "kernelspec": {
   "display_name": "Calysto Scheme 3",
   "language": "scheme",
   "name": "calysto_scheme"
  },
  "language_info": {
   "codemirror_mode": {
    "name": "scheme"
   },
   "mimetype": "text/x-scheme",
   "name": "scheme",
   "pygments_lexer": "scheme"
  },
  "orig_nbformat": 4
 },
 "nbformat": 4,
 "nbformat_minor": 2
}

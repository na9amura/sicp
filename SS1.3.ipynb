{
 "cells": [
  {
   "cell_type": "markdown",
   "metadata": {},
   "source": [
    "## 1.3 Formulating Abstractions with Higher-Order Procedures"
   ]
  },
  {
   "cell_type": "markdown",
   "metadata": {},
   "source": [
    "### 1.3.1 Procedures as Arguments"
   ]
  },
  {
   "cell_type": "code",
   "execution_count": 115,
   "metadata": {},
   "outputs": [],
   "source": [
    "(define (sum term a next b)\n",
    "  (if (> a b)\n",
    "    0\n",
    "    (+ (term a)\n",
    "       (sum term (next a) next b))))"
   ]
  },
  {
   "cell_type": "code",
   "execution_count": 3,
   "metadata": {},
   "outputs": [],
   "source": [
    "(define (cube n) (* n n n))\n",
    "(define (sum-cubes a b)\n",
    "  (define (inc n) (+ n 1))\n",
    "  (sum cube a inc b))"
   ]
  },
  {
   "cell_type": "code",
   "execution_count": 4,
   "metadata": {},
   "outputs": [
    {
     "data": {
      "text/plain": [
       "3025"
      ]
     },
     "execution_count": 4,
     "metadata": {},
     "output_type": "execute_result"
    }
   ],
   "source": [
    "(sum-cubes 1 10)"
   ]
  },
  {
   "cell_type": "code",
   "execution_count": 5,
   "metadata": {},
   "outputs": [],
   "source": [
    "(define (sum-integers a b)\n",
    "  (define (identity n) n)\n",
    "  (define (inc n) (+ n 1))\n",
    "  (sum identity a inc b))"
   ]
  },
  {
   "cell_type": "code",
   "execution_count": 6,
   "metadata": {},
   "outputs": [
    {
     "data": {
      "text/plain": [
       "55"
      ]
     },
     "execution_count": 6,
     "metadata": {},
     "output_type": "execute_result"
    }
   ],
   "source": [
    "(sum-integers 1 10)"
   ]
  },
  {
   "cell_type": "code",
   "execution_count": 7,
   "metadata": {},
   "outputs": [],
   "source": [
    "(define (pi-sum a b)\n",
    "  (define (pi-term x)\n",
    "    (/ 1.0 (* x (+ x 2))))\n",
    "  (define (pi-next x)\n",
    "    (+ x 4))\n",
    "  (sum pi-term a pi-next b))"
   ]
  },
  {
   "cell_type": "code",
   "execution_count": 8,
   "metadata": {},
   "outputs": [
    {
     "data": {
      "text/plain": [
       "3.139592655589783"
      ]
     },
     "execution_count": 8,
     "metadata": {},
     "output_type": "execute_result"
    }
   ],
   "source": [
    "(* 8 (pi-sum 1 1000))"
   ]
  },
  {
   "cell_type": "code",
   "execution_count": 9,
   "metadata": {},
   "outputs": [],
   "source": [
    "(define (integral f a b dx)\n",
    "  (define (add-dx x)\n",
    "    (+ x dx))\n",
    "  (* (sum f (+ a (/ dx 2.0)) add-dx b)\n",
    "     dx))"
   ]
  },
  {
   "cell_type": "code",
   "execution_count": 10,
   "metadata": {},
   "outputs": [
    {
     "data": {
      "text/plain": [
       "0.24998750000000042"
      ]
     },
     "execution_count": 10,
     "metadata": {},
     "output_type": "execute_result"
    }
   ],
   "source": [
    "(integral cube 0 1 0.01)"
   ]
  },
  {
   "cell_type": "code",
   "execution_count": 11,
   "metadata": {},
   "outputs": [
    {
     "data": {
      "text/plain": [
       "0.249999875000001"
      ]
     },
     "execution_count": 11,
     "metadata": {},
     "output_type": "execute_result"
    }
   ],
   "source": [
    "(integral cube 0 1 0.001)"
   ]
  },
  {
   "cell_type": "markdown",
   "metadata": {},
   "source": [
    "#### Exercise 1.29: Simpson’s Rule\n",
    "\n",
    "- integral of f between a and b \n",
    "  = (h/3) (y_0 + 4y_1 + 2y_2 + 4y_3 + ... + 2y_n-2 + 4y_n-1 + y_n)\n",
    "- h = (b - a)/n\n",
    "- given integer `n` (Larger `n` increases the accuracy of proximation)\n",
    "- y_k = f(a + kh)"
   ]
  },
  {
   "cell_type": "code",
   "execution_count": 43,
   "metadata": {},
   "outputs": [],
   "source": [
    "(define (simpson-integral f a b n)\n",
    "  (define (next x)\n",
    "    (+ x 1))\n",
    "  (define h\n",
    "    (/ (- b a) n))\n",
    "  (define (term k)\n",
    "    (define (y k)\n",
    "      (f (+ a (* k h))))\n",
    "    (cond\n",
    "      ((or (= k 0) (= k n)) (y k))\n",
    "      ((even? k) (* 4 (y k)))\n",
    "      (else (* 2 (y k)))))\n",
    "  ; (* (/ h 3) (sum term a next n)) used `3.0` to get result in decimal,            not fraction\n",
    "  (* (/ h 3.0) (sum term a next n))\n",
    "  )"
   ]
  },
  {
   "cell_type": "code",
   "execution_count": 45,
   "metadata": {},
   "outputs": [
    {
     "name": "stdout",
     "output_type": "stream",
     "text": [
      "0.2467166666666667\n",
      "0.24966716666666663\n"
     ]
    }
   ],
   "source": [
    "(display (format \"~a\\n\" (simpson-integral cube 0 1 100)))\n",
    "(display (format \"~a\\n\" (simpson-integral cube 0 1 1000)))"
   ]
  },
  {
   "cell_type": "markdown",
   "metadata": {},
   "source": [
    "Due to `integral of cube between 0 and 1` is 0.25, result of `(simpson-integral cube 0 1 1000)` has better accuracy."
   ]
  },
  {
   "cell_type": "markdown",
   "metadata": {},
   "source": [
    "#### Exercise 1.30: iterative `sum` procedure\n",
    "\n",
    "```s\n",
    "(define (sum term a next b)\n",
    "  (define (iter a result)\n",
    "    (if (?)\n",
    "        ?\n",
    "        (iter ? ?)))\n",
    "  (iter ? ?))\n",
    "```"
   ]
  },
  {
   "cell_type": "code",
   "execution_count": 53,
   "metadata": {},
   "outputs": [],
   "source": [
    "(define (sum-iter term a next b)\n",
    "  (define (iter a result)\n",
    "    (if (> a b)\n",
    "        result\n",
    "        (iter (next a) (+ (term a) result))))\n",
    "  (iter a b))"
   ]
  },
  {
   "cell_type": "code",
   "execution_count": 56,
   "metadata": {},
   "outputs": [
    {
     "data": {
      "text/plain": [
       "3035"
      ]
     },
     "execution_count": 56,
     "metadata": {},
     "output_type": "execute_result"
    }
   ],
   "source": [
    "(define (sum-cubes a b)\n",
    "  (define (cube n) (* n n n))\n",
    "  (define (inc n) (+ n 1))\n",
    "  (sum-iter cube a inc b))\n",
    "(sum-cubes 1 10)"
   ]
  },
  {
   "cell_type": "markdown",
   "metadata": {},
   "source": [
    "#### Exercise 1.31: product"
   ]
  },
  {
   "cell_type": "markdown",
   "metadata": {},
   "source": [
    "- a. implement it and compute factorial and approximations of pi using it"
   ]
  },
  {
   "cell_type": "code",
   "execution_count": 46,
   "metadata": {},
   "outputs": [],
   "source": [
    "(define (product term a next b)\n",
    "  (if (> a b)\n",
    "      1\n",
    "      (*\n",
    "        (term a)\n",
    "        (product term (next a) next b))))"
   ]
  },
  {
   "cell_type": "code",
   "execution_count": 58,
   "metadata": {},
   "outputs": [],
   "source": [
    "(define (factorial a b)\n",
    "  (define (next x) (+ x 1))\n",
    "  (define (term a) a)\n",
    "  (product term a next b))"
   ]
  },
  {
   "cell_type": "code",
   "execution_count": 60,
   "metadata": {},
   "outputs": [
    {
     "name": "stdout",
     "output_type": "stream",
     "text": [
      "120\n",
      "3628800\n"
     ]
    }
   ],
   "source": [
    "(display (format \"~a\\n\" (factorial 1 5)))\n",
    "(display (format \"~a\\n\" (factorial 1 10)))"
   ]
  },
  {
   "cell_type": "markdown",
   "metadata": {},
   "source": [
    "1, 2, 3, 4, 5, 6, ...\n",
    "\n",
    "dividend\n",
    "\n",
    "```\n",
    "2, 4, 4, 6, 6, 8 ...\n",
    "-----\n",
    "1, 2, 3, 4, 5 ...\n",
    "\n",
    "=> n / 2\n",
    "0.5, 1, 1.5, 2.0, 2.5 ...\n",
    "\n",
    "=> + 0.5\n",
    "1, 1.5, 2.0, 2.5, 3.0 ...\n",
    "\n",
    "=> even: + 0.5, odd: + 0\n",
    "1, 2, 2, 3, 3 ...\n",
    "\n",
    "=> * 2\n",
    "2, 4, 4, 6, 6, 8 ...\n",
    "```\n",
    "\n",
    "divisor\n",
    "```\n",
    "3, 3, 5, 5, 7, 7, ...\n",
    "----\n",
    "1, 2, 3, 4, 5 ...\n",
    "\n",
    "=> n / 2\n",
    "0.5, 1, 1.5, 2.0, 2.5 ...\n",
    "\n",
    "=> even: + 0, odd: + 0.5\n",
    "1, 1, 2, 2, 3 ...\n",
    "\n",
    "=> * 2\n",
    "2, 2, 4, 4, 6, ...\n",
    "\n",
    "=> + 1\n",
    "3, 3, 5, 5, 7 ...\n",
    "\n",
    "```"
   ]
  },
  {
   "cell_type": "code",
   "execution_count": 32,
   "metadata": {},
   "outputs": [],
   "source": [
    "(define (approx-pi depth)\n",
    "  ; (define (product term a next b)\n",
    "  ;   (display (format \"~a, ~a\\n\" a (term a)))\n",
    "  ;   (if (> a b)\n",
    "  ;       1\n",
    "  ;       (*\n",
    "  ;         (term a)\n",
    "  ;         (product term (next a) next b))))\n",
    "  (define (next x) (+ x 1))\n",
    "  (define (dividend)\n",
    "    (define (term x) \n",
    "      (* 2 (+ (/ x 2) (if (even? x) 1 0.5))))\n",
    "    ; (newline)\n",
    "    (product term 1.0 next depth))\n",
    "  (define (divisor)\n",
    "    (define (term x) \n",
    "      (+ (* (+ (/ x 2) (if (even? x) 0 0.5)) 2) 1))\n",
    "    ; (newline)\n",
    "    (product term 1.0 next depth))\n",
    "  (* 4 (/ (dividend) (divisor))))"
   ]
  },
  {
   "cell_type": "code",
   "execution_count": 29,
   "metadata": {},
   "outputs": [
    {
     "name": "stdout",
     "output_type": "stream",
     "text": [
      "\n",
      "1.0, 2.0\n",
      "2.0, 4.0\n",
      "3.0, 4.0\n",
      "4.0, 6.0\n",
      "5.0, 6.0\n",
      "6.0, 8.0\n",
      "\n",
      "1.0, 3.0\n",
      "2.0, 3.0\n",
      "3.0, 5.0\n",
      "4.0, 5.0\n",
      "5.0, 7.0\n",
      "6.0, 7.0\n"
     ]
    },
    {
     "data": {
      "text/plain": [
       "2.9257142857142857"
      ]
     },
     "execution_count": 29,
     "metadata": {},
     "output_type": "execute_result"
    }
   ],
   "source": [
    "(approx-pi 5)"
   ]
  },
  {
   "cell_type": "code",
   "execution_count": 35,
   "metadata": {},
   "outputs": [
    {
     "name": "stdout",
     "output_type": "stream",
     "text": [
      "3.1570301764551667\n",
      "nan\n"
     ]
    }
   ],
   "source": [
    "(display (format \"~a\\n\" (approx-pi 100)))\n",
    "(display (format \"~a\\n\" (approx-pi 200)))"
   ]
  },
  {
   "cell_type": "markdown",
   "metadata": {},
   "source": [
    "By doing division after computing both divisor and diviend, integer had been overflowen"
   ]
  },
  {
   "cell_type": "code",
   "execution_count": 40,
   "metadata": {},
   "outputs": [],
   "source": [
    "(define (approx-pi depth)\n",
    "  (define (next x) (+ x 1))\n",
    "  (define (term x) \n",
    "    (/\n",
    "      (* 2 (+ (/ x 2) (if (even? x) 1 0.5)))\n",
    "      (+ (* (+ (/ x 2) (if (even? x) 0 0.5)) 2) 1)))\n",
    "  (* 4 (product term 1 next depth)))"
   ]
  },
  {
   "cell_type": "code",
   "execution_count": 43,
   "metadata": {},
   "outputs": [
    {
     "name": "stdout",
     "output_type": "stream",
     "text": [
      "2.9257142857142853\n",
      "3.275101041334807\n",
      "3.1570301764551645\n",
      "3.149378473168593\n",
      "3.143160705532257\n"
     ]
    }
   ],
   "source": [
    "(display (format \"~a\\n\" (approx-pi 5)))\n",
    "(display (format \"~a\\n\" (approx-pi 10)))\n",
    "(display (format \"~a\\n\" (approx-pi 100)))\n",
    "(display (format \"~a\\n\" (approx-pi 200)))\n",
    "(display (format \"~a\\n\" (approx-pi 1000)))"
   ]
  },
  {
   "cell_type": "markdown",
   "metadata": {},
   "source": [
    "- b. implement with method (recuresive or iterative) opposite of a"
   ]
  },
  {
   "cell_type": "code",
   "execution_count": 49,
   "metadata": {},
   "outputs": [],
   "source": [
    "(define (product-iter term a next b)\n",
    "  (define (iter a acc)\n",
    "    (if (> a b)\n",
    "        acc\n",
    "        (iter (next a) (* acc (term a)))))\n",
    "  (iter a 1))"
   ]
  },
  {
   "cell_type": "code",
   "execution_count": 50,
   "metadata": {},
   "outputs": [],
   "source": [
    "(define (factorial-iter a b)\n",
    "  (define (next x) (+ x 1))\n",
    "  (define (term a) a)\n",
    "  (product-iter term a next b))"
   ]
  },
  {
   "cell_type": "code",
   "execution_count": 52,
   "metadata": {},
   "outputs": [
    {
     "name": "stdout",
     "output_type": "stream",
     "text": [
      "120\n",
      "3628800\n"
     ]
    }
   ],
   "source": [
    "(display (format \"~a\\n\" (factorial 1 5)))\n",
    "(display (format \"~a\\n\" (factorial 1 10)))"
   ]
  },
  {
   "cell_type": "markdown",
   "metadata": {},
   "source": [
    "#### Exercise 1.32: accumulate"
   ]
  },
  {
   "cell_type": "markdown",
   "metadata": {},
   "source": [
    "- a. implement `accumulate`"
   ]
  },
  {
   "cell_type": "code",
   "execution_count": 53,
   "metadata": {},
   "outputs": [],
   "source": [
    "(define (accumulate combiner null-value term a next b)\n",
    "  (if (> a b)\n",
    "      null-value\n",
    "      (combiner\n",
    "        (term a)\n",
    "        (accumulate combiner null-value term (next a) next b))))"
   ]
  },
  {
   "cell_type": "code",
   "execution_count": 56,
   "metadata": {},
   "outputs": [],
   "source": [
    "(define (acc-sum a b)\n",
    "  (define (combiner x y) (+ x y))\n",
    "  (define (term x) x)\n",
    "  (define (next x) (+ x 1))\n",
    "  (accumulate combiner 0 term a next b))"
   ]
  },
  {
   "cell_type": "code",
   "execution_count": 58,
   "metadata": {},
   "outputs": [
    {
     "name": "stdout",
     "output_type": "stream",
     "text": [
      "55\n",
      "5050\n"
     ]
    }
   ],
   "source": [
    "(display (format \"~a\\n\" (acc-sum 1 10)))\n",
    "(display (format \"~a\\n\" (acc-sum 1 100)))"
   ]
  },
  {
   "cell_type": "code",
   "execution_count": 59,
   "metadata": {},
   "outputs": [],
   "source": [
    "(define (acc-product a b)\n",
    "  (define (combiner x y) (* x y))\n",
    "  (define (term x) x)\n",
    "  (define (next x) (+ x 1))\n",
    "  (accumulate combiner 1 term a next b))"
   ]
  },
  {
   "cell_type": "code",
   "execution_count": 61,
   "metadata": {},
   "outputs": [
    {
     "name": "stdout",
     "output_type": "stream",
     "text": [
      "120\n",
      "3628800\n"
     ]
    }
   ],
   "source": [
    "(display (format \"~a\\n\" (acc-product 1 5)))\n",
    "(display (format \"~a\\n\" (acc-product 1 10)))"
   ]
  },
  {
   "cell_type": "markdown",
   "metadata": {},
   "source": [
    "- b. implement `accumulate` using opposite method (recuresive or iterative) of a"
   ]
  },
  {
   "cell_type": "code",
   "execution_count": 62,
   "metadata": {},
   "outputs": [],
   "source": [
    "(define (accumulate-iter combiner null-value term a next b)\n",
    "  (define (iter k result)\n",
    "    (if (> k b)\n",
    "        result\n",
    "        (iter (next k) (combiner (term k) result))))\n",
    "  (iter a null-value)\n",
    ")"
   ]
  },
  {
   "cell_type": "code",
   "execution_count": 67,
   "metadata": {},
   "outputs": [],
   "source": [
    "(define (acc-iter-sum a b)\n",
    "  (define (combiner x y) (+ x y))\n",
    "  (define (term x) x)\n",
    "  (define (next x) (+ x 1))\n",
    "  (accumulate-iter combiner 0 term a next b))"
   ]
  },
  {
   "cell_type": "code",
   "execution_count": 68,
   "metadata": {},
   "outputs": [
    {
     "name": "stdout",
     "output_type": "stream",
     "text": [
      "55\n",
      "5050\n"
     ]
    }
   ],
   "source": [
    "(display (format \"~a\\n\" (acc-iter-sum 1 10)))\n",
    "(display (format \"~a\\n\" (acc-iter-sum 1 100)))"
   ]
  },
  {
   "cell_type": "markdown",
   "metadata": {},
   "source": [
    "#### Exercise 1.33: filtered-accumulate"
   ]
  },
  {
   "cell_type": "code",
   "execution_count": 97,
   "metadata": {},
   "outputs": [],
   "source": [
    "(define (filtered-accumulate combiner null-value term a next b filter)\n",
    "  ; (display (format \"~a: ~a\\n\" a (filter a)))\n",
    "  (cond \n",
    "      ((> a b) null-value)\n",
    "      ((filter a)\n",
    "        (combiner\n",
    "          (term a)\n",
    "          (filtered-accumulate combiner null-value term (next a) next b filter)))\n",
    "      (else (filtered-accumulate combiner null-value term (next a) next b filter))\n",
    "  ))"
   ]
  },
  {
   "cell_type": "code",
   "execution_count": 74,
   "metadata": {},
   "outputs": [],
   "source": [
    "(define (sum-even a b)\n",
    "  (define (combiner x y) (+ x y))\n",
    "  (define (term x) x)\n",
    "  (define (next x) (+ x 1))\n",
    "  (define (filter x) (even? x))\n",
    "  (filtered-accumulate combiner 0 term a next b filter))"
   ]
  },
  {
   "cell_type": "code",
   "execution_count": 77,
   "metadata": {},
   "outputs": [
    {
     "name": "stdout",
     "output_type": "stream",
     "text": [
      "12\n",
      "12\n"
     ]
    }
   ],
   "source": [
    "(display (format \"~a\\n\" (+ 2 4 6)))\n",
    "(display (format \"~a\\n\" (sum-even 1 6)))"
   ]
  },
  {
   "cell_type": "markdown",
   "metadata": {},
   "source": [
    "- a. the sum of the squares of the prime numbers in the interval a to b"
   ]
  },
  {
   "cell_type": "code",
   "execution_count": 84,
   "metadata": {},
   "outputs": [],
   "source": [
    "; from ss 1.2\n",
    "(define (prime? n)\n",
    "  (define (smallest-divisor n)\n",
    "    (define (square n) (* n n))\n",
    "    (define (divides? a b) (= (remainder b a) 0))\n",
    "    (define (find-divisor n test)\n",
    "      (cond\n",
    "        ((> (square test) n) n)\n",
    "        ((divides? test n) test)\n",
    "        (else (find-divisor n (+ test 1)))))\n",
    "    (find-divisor n 2))\n",
    "  (= n (smallest-divisor n)))"
   ]
  },
  {
   "cell_type": "code",
   "execution_count": 85,
   "metadata": {},
   "outputs": [],
   "source": [
    "(define (sum-suquared-prime a b)\n",
    "  (define (combiner x y) (+ x y))\n",
    "  (define (term x) (* x x))\n",
    "  (define (next x) (+ x 1))\n",
    "  (define (filter x) (prime? x))\n",
    "  (filtered-accumulate combiner 0 term a next b filter))"
   ]
  },
  {
   "cell_type": "code",
   "execution_count": 86,
   "metadata": {},
   "outputs": [
    {
     "name": "stdout",
     "output_type": "stream",
     "text": [
      "39\n",
      "39\n"
     ]
    }
   ],
   "source": [
    "(display (format \"~a\\n\" (+ 1 4 9 25)))\n",
    "(display (format \"~a\\n\" (sum-suquared-prime 1 6)))"
   ]
  },
  {
   "cell_type": "markdown",
   "metadata": {},
   "source": [
    "- b. the product of all the positive integers less than `n` that are relatively prime to `n`"
   ]
  },
  {
   "cell_type": "code",
   "execution_count": 87,
   "metadata": {},
   "outputs": [],
   "source": [
    "; from ss 1.2\n",
    "(define (gcd a b)\n",
    "  (if (= b 0)\n",
    "    a\n",
    "    (gcd b (remainder a b))))"
   ]
  },
  {
   "cell_type": "code",
   "execution_count": 107,
   "metadata": {},
   "outputs": [],
   "source": [
    "(define (product-smaller-rel-prime-to n)\n",
    "  (define (combiner x y) (* x y))\n",
    "  (define (null-value) 1)\n",
    "  (define (term x) x)\n",
    "  (define (next x) (+ x 1))\n",
    "  (define (filter x) (= 1 (gcd x n)))\n",
    "  (filtered-accumulate combiner (null-value) term 1 next n filter))"
   ]
  },
  {
   "cell_type": "code",
   "execution_count": 108,
   "metadata": {},
   "outputs": [
    {
     "name": "stdout",
     "output_type": "stream",
     "text": [
      "105\n",
      "105\n"
     ]
    }
   ],
   "source": [
    "(display (format \"~a\\n\" (* 1 3 5 7)))\n",
    "(display (format \"~a\\n\" (product-smaller-rel-prime-to 8)))"
   ]
  },
  {
   "cell_type": "markdown",
   "metadata": {},
   "source": [
    "### 1.3.2 Constructing Procedures Using lambda\n",
    "\n",
    "```s\n",
    "(lambda (⟨formal-parameters⟩) ⟨body⟩)\n",
    "```"
   ]
  },
  {
   "cell_type": "code",
   "execution_count": 116,
   "metadata": {},
   "outputs": [],
   "source": [
    "(define (pi-sum a b)\n",
    "  (sum (lambda (x) (/ 1.0 (* x (+ x 2))))\n",
    "        a\n",
    "        (lambda (x) (+ x 4))\n",
    "        b))"
   ]
  },
  {
   "cell_type": "code",
   "execution_count": 117,
   "metadata": {},
   "outputs": [
    {
     "data": {
      "text/plain": [
       "3.139592655589783"
      ]
     },
     "execution_count": 117,
     "metadata": {},
     "output_type": "execute_result"
    }
   ],
   "source": [
    "(* 8 (pi-sum 1 1000))"
   ]
  },
  {
   "cell_type": "markdown",
   "metadata": {},
   "source": [
    "#### Using `let` to create local variables\n",
    "\n",
    "`let` definition\n",
    "\n",
    "```s\n",
    "(let ((⟨var_1⟩ ⟨exp_1⟩)\n",
    "      (⟨var_2⟩ ⟨exp_2⟩)\n",
    "      ...\n",
    "      (⟨var_n⟩ ⟨exp_n⟩)) \n",
    "    ⟨body⟩)\n",
    "```\n",
    "\n",
    "`let` is syntax sugar of `lambda`. Lisp iterprets `let` like this.\n",
    "w\n",
    "```s\n",
    "((lambda (⟨var_1⟩ ... ⟨var_n⟩)\n",
    "    ⟨body⟩)\n",
    "  ⟨exp_1⟩\n",
    "  ⟨exp_2⟩)\n",
    "```"
   ]
  },
  {
   "cell_type": "code",
   "execution_count": 118,
   "metadata": {},
   "outputs": [
    {
     "data": {
      "text/plain": [
       "3"
      ]
     },
     "execution_count": 118,
     "metadata": {},
     "output_type": "execute_result"
    }
   ],
   "source": [
    "(let ((a 1)\n",
    "      (b 2))\n",
    "  (+ a b))"
   ]
  },
  {
   "cell_type": "markdown",
   "metadata": {},
   "source": [
    "#### Exercise 1.34: apply `(f f)`\n",
    "\n",
    "~cause infinite loop~"
   ]
  },
  {
   "cell_type": "code",
   "execution_count": 119,
   "metadata": {},
   "outputs": [],
   "source": [
    "(define (f g) (g 2))"
   ]
  },
  {
   "cell_type": "code",
   "execution_count": 120,
   "metadata": {},
   "outputs": [
    {
     "name": "stderr",
     "output_type": "stream",
     "text": [
      "\u001b[0;31m\n",
      "Traceback (most recent call last):\n",
      "  File \"In [120]\", line 1, col 1, in 'f'\n",
      "  File \"In [119]\", line 1, col 15, in 'g'\n",
      "  File \"In [119]\", line 1, col 15, in 'g'\n",
      "  File \"In [119]\", line 1, col 15\n",
      "RunTimeError: attempt to apply non-procedure '2'\n",
      "\n",
      "\u001b[0m"
     ]
    }
   ],
   "source": [
    "(f f)"
   ]
  },
  {
   "cell_type": "markdown",
   "metadata": {},
   "source": [
    "Lisp evaluates procedure with `applicative-order evaluation`. Then, `(f f)` will be evaluated steps like this\n",
    "\n",
    "```s\n",
    "(f f)\n",
    "=> (g 2)\n",
    "=> (f 2)\n",
    "=> (g 2)\n",
    "=> (2 2)\n",
    "```"
   ]
  },
  {
   "cell_type": "markdown",
   "metadata": {},
   "source": [
    "### 1.3.3 Procedures as General Methods"
   ]
  },
  {
   "cell_type": "markdown",
   "metadata": {},
   "source": [
    "#### Finding roots of equations by the half-interval method"
   ]
  },
  {
   "cell_type": "code",
   "execution_count": 147,
   "metadata": {},
   "outputs": [],
   "source": [
    "(define (average x y) (/ (+ x y) 2))\n",
    "(define (positive? x) (or (> x 0) (= x 0)))\n",
    "(define (negative? x) (< x 0))\n",
    "(define (search f neg-point pos-point)\n",
    "  (let ((midpoint (average neg-point pos-point)))\n",
    "    (if (close-enough? neg-point pos-point)\n",
    "        midpoint\n",
    "        (let ((test-value (f midpoint)))\n",
    "          (cond\n",
    "            ((positive? test-value) (search f neg-point midpoint))\n",
    "            ((negative? test-value) (search f midpoint pos-point))\n",
    "            (else midpoint))))))"
   ]
  },
  {
   "cell_type": "code",
   "execution_count": 148,
   "metadata": {},
   "outputs": [],
   "source": [
    "(define (close-enough? x y) (< (abs (- x y)) 0.001))"
   ]
  },
  {
   "cell_type": "code",
   "execution_count": 159,
   "metadata": {},
   "outputs": [
    {
     "data": {
      "text/plain": [
       "-0.00048828125"
      ]
     },
     "execution_count": 159,
     "metadata": {},
     "output_type": "execute_result"
    }
   ],
   "source": [
    "(search\n",
    "  (lambda (x) (/ x 3))\n",
    "  -1.0\n",
    "  1.0)"
   ]
  },
  {
   "cell_type": "code",
   "execution_count": 153,
   "metadata": {},
   "outputs": [
    {
     "data": {
      "text/plain": [
       "-0.00048828125"
      ]
     },
     "execution_count": 153,
     "metadata": {},
     "output_type": "execute_result"
    }
   ],
   "source": [
    "(search\n",
    "  (lambda (x) (* x x x))\n",
    "  -1.0\n",
    "  1.0)"
   ]
  },
  {
   "cell_type": "code",
   "execution_count": 172,
   "metadata": {},
   "outputs": [],
   "source": [
    "(define (half-interval-method f a b)\n",
    "  (let ((a-val (f a))\n",
    "        (b-val (f b)))\n",
    "    (cond\n",
    "      ((and (negative? a-val) (positive? b-val)) (search f a b))\n",
    "      ((and (negative? b-val) (positive? a-val)) (search f b a))\n",
    "      (else (error \"Values are not of opposite sign\" a b)))))"
   ]
  },
  {
   "cell_type": "code",
   "execution_count": 173,
   "metadata": {},
   "outputs": [
    {
     "data": {
      "text/plain": [
       "1.89306640625"
      ]
     },
     "execution_count": 173,
     "metadata": {},
     "output_type": "execute_result"
    }
   ],
   "source": [
    "(half-interval-method \n",
    "  (lambda (x) (- (* x x x) (* 2 x) 3))\n",
    "  1.0\n",
    "  2.0)"
   ]
  },
  {
   "cell_type": "code",
   "execution_count": 167,
   "metadata": {},
   "outputs": [
    {
     "data": {
      "text/plain": [
       "-0.0019499402260407805"
      ]
     },
     "execution_count": 167,
     "metadata": {},
     "output_type": "execute_result"
    }
   ],
   "source": [
    "((lambda (x) (- (* x x x) (* 2 x) 3)) 1.89306640625)"
   ]
  },
  {
   "cell_type": "markdown",
   "metadata": {},
   "source": [
    "#### Finding fixed points of functions"
   ]
  },
  {
   "cell_type": "code",
   "execution_count": 3,
   "metadata": {},
   "outputs": [],
   "source": [
    "(define tolerance 0.00001)\n",
    "(define (fixed-point f first-guess)\n",
    "  (define (close-enough? v1 v2)\n",
    "    (< (abs (- v1 v2))\n",
    "       tolerance))\n",
    "  ; (define (try guess) <- can't overwride `try`?\n",
    "  (define (try-it guess)\n",
    "    (display (format \"guess: ~a\\n\" guess))\n",
    "    (let ((next (f guess)))\n",
    "      (if (close-enough? guess next)\n",
    "          guess\n",
    "          (try-it next))))\n",
    "  (try-it first-guess))"
   ]
  },
  {
   "cell_type": "code",
   "execution_count": 206,
   "metadata": {},
   "outputs": [
    {
     "name": "stderr",
     "output_type": "stream",
     "text": [
      "\u001b[0;31m\n",
      "Traceback (most recent call last):\n",
      "  File \"In [206]\", line 1, col 14\n",
      "RunTimeError: unbound variable 'cos'\n",
      "\n",
      "\u001b[0m"
     ]
    }
   ],
   "source": [
    "(fixed-point cos 1.0)"
   ]
  },
  {
   "cell_type": "code",
   "execution_count": 207,
   "metadata": {},
   "outputs": [],
   "source": [
    "(define (sqrt x)\n",
    "  (fixed-point (lambda (y) (/ x y)) 1.0))"
   ]
  },
  {
   "cell_type": "code",
   "execution_count": 208,
   "metadata": {},
   "outputs": [
    {
     "name": "stdout",
     "output_type": "stream",
     "text": [
      "first-guess: 1.0\n"
     ]
    },
    {
     "data": {
      "text/plain": [
       "1.0"
      ]
     },
     "execution_count": 208,
     "metadata": {},
     "output_type": "execute_result"
    }
   ],
   "source": [
    "(sqrt 4)"
   ]
  },
  {
   "cell_type": "code",
   "execution_count": 229,
   "metadata": {},
   "outputs": [],
   "source": [
    "(define (new-sqrt x)\n",
    "  (fixed-point \n",
    "    (lambda (y) (average y (/ x y))) \n",
    "    1.0))"
   ]
  },
  {
   "cell_type": "code",
   "execution_count": 230,
   "metadata": {},
   "outputs": [
    {
     "name": "stdout",
     "output_type": "stream",
     "text": [
      "guess: 1.0\n",
      "guess: 5.0\n",
      "guess: 3.4\n",
      "guess: 3.023529411764706\n",
      "guess: 3.00009155413138\n",
      "guess: 3.000000001396984\n"
     ]
    },
    {
     "data": {
      "text/plain": [
       "3.000000001396984"
      ]
     },
     "execution_count": 230,
     "metadata": {},
     "output_type": "execute_result"
    }
   ],
   "source": [
    "(new-sqrt 9)"
   ]
  },
  {
   "cell_type": "markdown",
   "metadata": {},
   "source": [
    "#### Exercise 1.35: golden ratio"
   ]
  },
  {
   "cell_type": "code",
   "execution_count": 231,
   "metadata": {},
   "outputs": [],
   "source": [
    "(define (golden-ratio)\n",
    "  (fixed-point \n",
    "    (lambda (x) (+ 1 (/ 1 x))) \n",
    "    1.0))"
   ]
  },
  {
   "cell_type": "code",
   "execution_count": 232,
   "metadata": {},
   "outputs": [
    {
     "name": "stdout",
     "output_type": "stream",
     "text": [
      "guess: 1.0\n",
      "guess: 2.0\n",
      "guess: 1.5\n",
      "guess: 1.6666666666666665\n",
      "guess: 1.6\n",
      "guess: 1.625\n",
      "guess: 1.6153846153846154\n",
      "guess: 1.619047619047619\n",
      "guess: 1.6176470588235294\n",
      "guess: 1.6181818181818182\n",
      "guess: 1.6179775280898876\n",
      "guess: 1.6180555555555556\n",
      "guess: 1.6180257510729614\n",
      "guess: 1.6180371352785146\n"
     ]
    },
    {
     "data": {
      "text/plain": [
       "1.6180371352785146"
      ]
     },
     "execution_count": 232,
     "metadata": {},
     "output_type": "execute_result"
    }
   ],
   "source": [
    "(golden-ratio)"
   ]
  },
  {
   "cell_type": "markdown",
   "metadata": {},
   "source": [
    "#### Exercise 1.36: Modify `fixed-point`"
   ]
  },
  {
   "cell_type": "code",
   "execution_count": 234,
   "metadata": {},
   "outputs": [],
   "source": [
    "; from ss 1.2\n",
    "(define (fast-exp b n)\n",
    "  (define (square n) (* n n))\n",
    "  (define (exp b n)\n",
    "    (cond \n",
    "      ((= n 0) 1)\n",
    "      ((even? n) (square (exp b (/ n 2))))\n",
    "      (else (* b (exp b (- n 1))))))\n",
    "  (exp b n))"
   ]
  },
  {
   "cell_type": "code",
   "execution_count": 241,
   "metadata": {},
   "outputs": [
    {
     "data": {
      "text/plain": [
       "2.0"
      ]
     },
     "execution_count": 241,
     "metadata": {},
     "output_type": "execute_result"
    }
   ],
   "source": [
    "(import \"math\")\n",
    "\n",
    "(math.log 100 10)"
   ]
  },
  {
   "cell_type": "code",
   "execution_count": 250,
   "metadata": {},
   "outputs": [],
   "source": [
    "(import \"math\")\n",
    "\n",
    "(define (x_exp_x)\n",
    "  (fixed-point \n",
    "    (lambda (x) (/ (math.log 1000) (math.log x))) \n",
    "    2.0))"
   ]
  },
  {
   "cell_type": "code",
   "execution_count": 244,
   "metadata": {},
   "outputs": [
    {
     "data": {
      "text/plain": [
       "0.0"
      ]
     },
     "execution_count": 244,
     "metadata": {},
     "output_type": "execute_result"
    }
   ],
   "source": [
    "; (Note that you cannot start fixed-point with a guess of 1, as this would cause division by log(1) = 0.)\n",
    "(math.log 1.0)"
   ]
  },
  {
   "cell_type": "code",
   "execution_count": 251,
   "metadata": {},
   "outputs": [
    {
     "name": "stdout",
     "output_type": "stream",
     "text": [
      "guess: 2.0\n",
      "guess: 9.965784284662087\n",
      "guess: 3.004472209841214\n",
      "guess: 6.279195757507157\n",
      "guess: 3.759850702401539\n",
      "guess: 5.215843784925895\n",
      "guess: 4.182207192401397\n",
      "guess: 4.8277650983445906\n",
      "guess: 4.387593384662677\n",
      "guess: 4.671250085763899\n",
      "guess: 4.481403616895052\n",
      "guess: 4.6053657460929\n",
      "guess: 4.5230849678718865\n",
      "guess: 4.577114682047341\n",
      "guess: 4.541382480151454\n",
      "guess: 4.564903245230833\n",
      "guess: 4.549372679303342\n",
      "guess: 4.559606491913287\n",
      "guess: 4.552853875788271\n",
      "guess: 4.557305529748263\n",
      "guess: 4.554369064436181\n",
      "guess: 4.556305311532999\n",
      "guess: 4.555028263573554\n",
      "guess: 4.555870396702851\n",
      "guess: 4.555315001192079\n",
      "guess: 4.5556812635433275\n",
      "guess: 4.555439715736846\n",
      "guess: 4.555599009998291\n",
      "guess: 4.555493957531389\n",
      "guess: 4.555563237292884\n",
      "guess: 4.555517548417651\n",
      "guess: 4.555547679306398\n",
      "guess: 4.555527808516254\n",
      "guess: 4.555540912917957\n"
     ]
    },
    {
     "data": {
      "text/plain": [
       "4.555540912917957"
      ]
     },
     "execution_count": 251,
     "metadata": {},
     "output_type": "execute_result"
    }
   ],
   "source": [
    "(x_exp_x)"
   ]
  },
  {
   "cell_type": "markdown",
   "metadata": {},
   "source": [
    "4.555540912917957 ^ 4.555540912917957 = 1,000.0131045064"
   ]
  },
  {
   "cell_type": "markdown",
   "metadata": {},
   "source": [
    "#### Exercise 1.37: An infinite continued fraction"
   ]
  },
  {
   "cell_type": "code",
   "execution_count": 54,
   "metadata": {},
   "outputs": [],
   "source": [
    "(define (cont-frac n d k)\n",
    "  (define (iter i)\n",
    "    ; (display (format \"k: ~a\\n\" k))\n",
    "    (if (= k i)\n",
    "      (d i)\n",
    "      (/ (n i) (+ (d i) (iter (+ i 1))))))\n",
    "  (display (format \"depth: ~a\\n\" k))\n",
    "  (iter 1))"
   ]
  },
  {
   "cell_type": "code",
   "execution_count": 55,
   "metadata": {},
   "outputs": [
    {
     "name": "stdout",
     "output_type": "stream",
     "text": [
      "depth: 3\n"
     ]
    },
    {
     "data": {
      "text/plain": [
       "0.6666666666666666"
      ]
     },
     "execution_count": 55,
     "metadata": {},
     "output_type": "execute_result"
    }
   ],
   "source": [
    "(cont-frac\n",
    "  (lambda (i) 1.0)\n",
    "  (lambda (i) 1.0)\n",
    "  3)"
   ]
  },
  {
   "cell_type": "code",
   "execution_count": 57,
   "metadata": {},
   "outputs": [
    {
     "name": "stdout",
     "output_type": "stream",
     "text": [
      "depth: 10\n",
      "0.6179775280898876\n",
      "depth: 100\n",
      "0.6180339887498948\n"
     ]
    }
   ],
   "source": [
    "(display (format \"~a\\n\" (cont-frac (lambda (i) 1.0) (lambda (i) 1.0) 10)))\n",
    "(display (format \"~a\\n\" (cont-frac (lambda (i) 1.0) (lambda (i) 1.0) 100)))"
   ]
  },
  {
   "cell_type": "markdown",
   "metadata": {},
   "source": [
    "b. iterative process"
   ]
  },
  {
   "cell_type": "code",
   "execution_count": 62,
   "metadata": {},
   "outputs": [],
   "source": [
    "(define (cont-frac-iter n d k)\n",
    "  (define (iter i acc)\n",
    "    ; (display (format \"k: ~a, acc: ~a\\n\" k acc))\n",
    "    (if (= k i)\n",
    "        acc\n",
    "        (iter (+ i 1) (/ (n i) (+ (d i) acc)))))\n",
    "  (display (format \"depth: ~a\\n\" k))\n",
    "  (iter 1 1))"
   ]
  },
  {
   "cell_type": "code",
   "execution_count": 63,
   "metadata": {},
   "outputs": [
    {
     "name": "stdout",
     "output_type": "stream",
     "text": [
      "depth: 3\n"
     ]
    },
    {
     "data": {
      "text/plain": [
       "0.6666666666666666"
      ]
     },
     "execution_count": 63,
     "metadata": {},
     "output_type": "execute_result"
    }
   ],
   "source": [
    "(cont-frac-iter\n",
    "  (lambda (i) 1.0)\n",
    "  (lambda (i) 1.0)\n",
    "  3)"
   ]
  },
  {
   "cell_type": "code",
   "execution_count": 64,
   "metadata": {},
   "outputs": [
    {
     "name": "stdout",
     "output_type": "stream",
     "text": [
      "depth: 10\n",
      "0.6179775280898876\n",
      "depth: 100\n",
      "0.6180339887498948\n"
     ]
    }
   ],
   "source": [
    "(display (format \"~a\\n\" (cont-frac-iter (lambda (i) 1.0) (lambda (i) 1.0) 10)))\n",
    "(display (format \"~a\\n\" (cont-frac-iter (lambda (i) 1.0) (lambda (i) 1.0) 100)))"
   ]
  },
  {
   "cell_type": "markdown",
   "metadata": {},
   "source": [
    "#### Exercise 1.38: approximate the natural logarithms based on Euler’s expansion.\n",
    "\n",
    "- N_i = 1,1,1,1,1,...\n",
    "- D_i = 1,2,1,1,4,1,1,6,1,1,8,..."
   ]
  },
  {
   "cell_type": "markdown",
   "metadata": {},
   "source": [
    "  1, 2, 1, 1, 4, 1, 1, 6, 1, 1, 8, ...\n",
    "  0, 1, 2, 3, 4, 5, 6, 7, 8, 9,10, ...\n",
    "  ., ., ., 1, ., ., 2, ., ., 3,  ., ...\n",
    "  ., 1, ., ., 2, ., ., 3, .  ., 4, ..."
   ]
  },
  {
   "cell_type": "code",
   "execution_count": 50,
   "metadata": {},
   "outputs": [],
   "source": [
    "(define (print-loop f max n)\n",
    "  (define (exec n)\n",
    "    (display (format \"~a\\n\" (f n)))\n",
    "    (print-loop f max (+ n 1)))\n",
    "  (if (< n max) (exec n)))"
   ]
  },
  {
   "cell_type": "code",
   "execution_count": 51,
   "metadata": {},
   "outputs": [],
   "source": [
    "(define (d _i)\n",
    "  (let ((i (+ _i 2)))\n",
    "    (display (format \"i: ~a, cond: ~a: res: \" i (% i 3)))\n",
    "    (if (> (% i 3) 0)\n",
    "        1\n",
    "        (* 2 (/ i 3)))))"
   ]
  },
  {
   "cell_type": "code",
   "execution_count": 52,
   "metadata": {},
   "outputs": [
    {
     "name": "stdout",
     "output_type": "stream",
     "text": [
      "i: 2, cond: 2: res: 1\n",
      "i: 3, cond: 0: res: 2\n",
      "i: 4, cond: 1: res: 1\n",
      "i: 5, cond: 2: res: 1\n",
      "i: 6, cond: 0: res: 4\n",
      "i: 7, cond: 1: res: 1\n",
      "i: 8, cond: 2: res: 1\n",
      "i: 9, cond: 0: res: 6\n",
      "i: 10, cond: 1: res: 1\n",
      "i: 11, cond: 2: res: 1\n"
     ]
    },
    {
     "data": {
      "text/plain": [
       "#f"
      ]
     },
     "execution_count": 52,
     "metadata": {},
     "output_type": "execute_result"
    }
   ],
   "source": [
    "(print-loop d 10 0)"
   ]
  },
  {
   "cell_type": "code",
   "execution_count": 65,
   "metadata": {},
   "outputs": [
    {
     "name": "stdout",
     "output_type": "stream",
     "text": [
      "depth: 100\n"
     ]
    },
    {
     "data": {
      "text/plain": [
       "0.7182818284590453"
      ]
     },
     "execution_count": 65,
     "metadata": {},
     "output_type": "execute_result"
    }
   ],
   "source": [
    "(cont-frac\n",
    "  (lambda (i) 1.0)\n",
    "  (lambda (i_) \n",
    "    (let ((i (+ i_ 1)))\n",
    "      (if (> (% i 3) 0)\n",
    "          1\n",
    "          (* 2 (/ i 3)))))\n",
    "  100)"
   ]
  },
  {
   "cell_type": "markdown",
   "metadata": {},
   "source": [
    "#### Exercise 1.39: A continued fraction representation of the tangent function\n",
    "\n",
    "1,2,3,4,5...\n",
    "2,4,6,8,10\n",
    "1,3,4,7"
   ]
  },
  {
   "cell_type": "code",
   "execution_count": 83,
   "metadata": {},
   "outputs": [],
   "source": [
    "(define (tan-cf x k)\n",
    "  (cont-frac\n",
    "    (lambda (i) \n",
    "      (if (= i 1) x (- (* x x))))\n",
    "    (lambda (i) (- (* 2 i) 1))\n",
    "    k))"
   ]
  },
  {
   "cell_type": "code",
   "execution_count": 84,
   "metadata": {},
   "outputs": [
    {
     "name": "stdout",
     "output_type": "stream",
     "text": [
      "depth: 10\n"
     ]
    },
    {
     "data": {
      "text/plain": [
       "1.7320508075688146"
      ]
     },
     "execution_count": 84,
     "metadata": {},
     "output_type": "execute_result"
    }
   ],
   "source": [
    "(import \"math\")\n",
    "\n",
    "(tan-cf (/ math.pi 3) 10)"
   ]
  },
  {
   "cell_type": "markdown",
   "metadata": {},
   "source": [
    "### 1.3.4 Procedures as Returned Values"
   ]
  },
  {
   "cell_type": "code",
   "execution_count": 2,
   "metadata": {},
   "outputs": [],
   "source": [
    "(define (average x y) (/ (+ x y) 2))\n",
    "(define (average-damp f)\n",
    "  (lambda (x) (average x (f x))))"
   ]
  },
  {
   "cell_type": "code",
   "execution_count": 88,
   "metadata": {},
   "outputs": [
    {
     "data": {
      "text/plain": [
       "55"
      ]
     },
     "execution_count": 88,
     "metadata": {},
     "output_type": "execute_result"
    }
   ],
   "source": [
    "(define (square x) (* x x))\n",
    "\n",
    "; average of 10 and 100 is 55\n",
    "((average-damp square) 10)"
   ]
  },
  {
   "cell_type": "code",
   "execution_count": 90,
   "metadata": {},
   "outputs": [],
   "source": [
    "(define (sqrt x)\n",
    "  (fixed-point (average-damp (lambda (y) (/ x y)))\n",
    "               1.0))"
   ]
  },
  {
   "cell_type": "code",
   "execution_count": 93,
   "metadata": {},
   "outputs": [
    {
     "name": "stdout",
     "output_type": "stream",
     "text": [
      "guess: 1.0\n",
      "guess: 3.0\n",
      "guess: 2.3333333333333335\n",
      "guess: 2.238095238095238\n",
      "guess: 2.2360688956433634\n"
     ]
    },
    {
     "data": {
      "text/plain": [
       "2.2360688956433634"
      ]
     },
     "execution_count": 93,
     "metadata": {},
     "output_type": "execute_result"
    }
   ],
   "source": [
    "(sqrt 5)"
   ]
  },
  {
   "cell_type": "markdown",
   "metadata": {},
   "source": [
    "#### Newton’s method\n",
    "\n",
    "square-root procedure -> special case of Newton's method.\n",
    "\n",
    "- a differentiatiable function `x -> g(x)`\n",
    "  - a solution of `g(x) = 0` is a fixed point of the function `x -> f(x)`\n",
    "    - `f(x) = x - (g(x) / Dg(x))`\n",
    "    - `Dg(x)` is the derivative of g evaluated at x\n",
    "      - `Dg(x) = (g(x + dx) - g(x)) / dx`\n",
    "      - in the limit of small `dx`"
   ]
  },
  {
   "cell_type": "code",
   "execution_count": 94,
   "metadata": {},
   "outputs": [],
   "source": [
    "(define dx 0.00001)\n",
    "(define (deriv g)\n",
    "  (lambda (x) (/ (- (g (+ x dx)) (g x)) dx)))"
   ]
  },
  {
   "cell_type": "code",
   "execution_count": 96,
   "metadata": {},
   "outputs": [
    {
     "data": {
      "text/plain": [
       "75.00014999664018"
      ]
     },
     "execution_count": 96,
     "metadata": {},
     "output_type": "execute_result"
    }
   ],
   "source": [
    "((deriv (lambda (x) (* x x x))) 5)"
   ]
  },
  {
   "cell_type": "code",
   "execution_count": 97,
   "metadata": {},
   "outputs": [
    {
     "data": {
      "text/plain": [
       "75"
      ]
     },
     "execution_count": 97,
     "metadata": {},
     "output_type": "execute_result"
    }
   ],
   "source": [
    "; deriv of `x ^ 3` -> `3 * x ^ 2`\n",
    "(* 3 (* 5 5))"
   ]
  },
  {
   "cell_type": "code",
   "execution_count": 98,
   "metadata": {},
   "outputs": [],
   "source": [
    "(define (newton-transform g)\n",
    "  (lambda (x) (- x (/ (g x) ((deriv g) x)))))"
   ]
  },
  {
   "cell_type": "code",
   "execution_count": 99,
   "metadata": {},
   "outputs": [],
   "source": [
    "(define (newtons-method g guess)\n",
    "  (fixed-point (newton-transform g) guess))"
   ]
  },
  {
   "cell_type": "markdown",
   "metadata": {},
   "source": [
    "Find the value which satisfies`f(y) = 0` where `y -> y ^ 2 - x`."
   ]
  },
  {
   "cell_type": "code",
   "execution_count": 100,
   "metadata": {},
   "outputs": [],
   "source": [
    "(define (sqrt x)\n",
    "  (newtons-method\n",
    "    (lambda (y) (- (* y y) x)) 1.0))"
   ]
  },
  {
   "cell_type": "code",
   "execution_count": 101,
   "metadata": {},
   "outputs": [
    {
     "name": "stdout",
     "output_type": "stream",
     "text": [
      "guess: 1.0\n",
      "guess: 2.99999000003607\n",
      "guess: 2.3333322222345143\n",
      "guess: 2.238095396823653\n",
      "guess: 2.2360689003143683\n"
     ]
    },
    {
     "data": {
      "text/plain": [
       "2.2360689003143683"
      ]
     },
     "execution_count": 101,
     "metadata": {},
     "output_type": "execute_result"
    }
   ],
   "source": [
    "(sqrt 5)"
   ]
  },
  {
   "cell_type": "markdown",
   "metadata": {},
   "source": [
    "### Abstractions and first-class procedures"
   ]
  },
  {
   "cell_type": "code",
   "execution_count": 102,
   "metadata": {},
   "outputs": [],
   "source": [
    "(define (fixed-point-of-transform g transform guess)\n",
    "  (fixed-point (transform g) guess))"
   ]
  },
  {
   "cell_type": "markdown",
   "metadata": {},
   "source": [
    "Recast the first sqrt computation (y -> x / y)\n",
    "```s\n",
    "(define (sqrt x)\n",
    "  (fixed-point-of-transform\n",
    "    (lambda (y) (/ x y)) average-damp 1.0))\n",
    "```\n",
    "\n",
    "Recast the second sqrt computation (y -> y^2 - x)\n",
    "```s\n",
    "(define (sqrt x)\n",
    "  (fixed-point-of-transform\n",
    "    (lambda (y) (- (square y) x)) newton-transform 1.0))\n",
    "```"
   ]
  },
  {
   "cell_type": "markdown",
   "metadata": {},
   "source": [
    "\n",
    "first-class elements are:\n",
    "\n",
    "- They may be named by variables.\n",
    "- They may be passed as arguments to procedures.\n",
    "- They may be returned as the results of procedures.\n",
    "- ey may be included in data structures.\n"
   ]
  },
  {
   "cell_type": "markdown",
   "metadata": {},
   "source": [
    "#### Exercise 1.40: cubic with newtons-method procedure"
   ]
  },
  {
   "cell_type": "code",
   "execution_count": 105,
   "metadata": {},
   "outputs": [],
   "source": [
    "(define (cubic a b c)\n",
    "  (lambda (x)\n",
    "    (+ (* x x x) (* a x x) (* b x) c)))"
   ]
  },
  {
   "cell_type": "code",
   "execution_count": 109,
   "metadata": {},
   "outputs": [
    {
     "name": "stdout",
     "output_type": "stream",
     "text": [
      "guess: 1.0\n",
      "guess: 0.33333777776275186\n",
      "guess: -0.40739341574970156\n",
      "guess: -1.4188731238603447\n",
      "guess: -1.1184919351394478\n",
      "guess: -1.0124818785025846\n",
      "guess: -1.000153742427375\n",
      "guess: -1.000000022096024\n"
     ]
    },
    {
     "data": {
      "text/plain": [
       "-1.000000022096024"
      ]
     },
     "execution_count": 109,
     "metadata": {},
     "output_type": "execute_result"
    }
   ],
   "source": [
    "; x^2 + x^2 + x + 1 = 0 -> x = -1\n",
    "(newtons-method (cubic 1 1 1) 1.0)"
   ]
  },
  {
   "cell_type": "markdown",
   "metadata": {},
   "source": [
    "#### Exercise 1.41: double "
   ]
  },
  {
   "cell_type": "code",
   "execution_count": 110,
   "metadata": {},
   "outputs": [],
   "source": [
    "(define (double f)\n",
    "  (lambda (x) (f (f x))))"
   ]
  },
  {
   "cell_type": "code",
   "execution_count": 112,
   "metadata": {},
   "outputs": [
    {
     "data": {
      "text/plain": [
       "3"
      ]
     },
     "execution_count": 112,
     "metadata": {},
     "output_type": "execute_result"
    }
   ],
   "source": [
    "(define (inc x) (+ x 1))\n",
    "((double inc) 1)"
   ]
  },
  {
   "cell_type": "markdown",
   "metadata": {},
   "source": [
    "```s\n",
    "(((double (double double)) inc) 5)\n",
    "```\n",
    "\n",
    "```s\n",
    "(((double (double double)) f) x)\n",
    "(((double double) ((double double) f)) x)\n",
    "(((double double) (double (double f))) x)\n",
    "(((double (double (double (double f))))) x)\n",
    "```\n",
    "\n",
    "```s\n",
    "(((double (double (double (double (lambda (x) (+ 1 x))))))) x)\n",
    "(((double (double (double (lambda (x) (+ 2 x)))))) 5)\n",
    "(((double (double (lambda (x) (+ 4 x))))) 5)\n",
    "(((double (lambda (x) (+ 8 x)))) 5)\n",
    "((lambda (x) (+ 16 x)) 5)\n",
    "(+ 16 5)\n",
    "21\n",
    "```"
   ]
  },
  {
   "cell_type": "code",
   "execution_count": 113,
   "metadata": {},
   "outputs": [
    {
     "data": {
      "text/plain": [
       "21"
      ]
     },
     "execution_count": 113,
     "metadata": {},
     "output_type": "execute_result"
    }
   ],
   "source": [
    "(((double (double double)) inc) 5)"
   ]
  },
  {
   "cell_type": "markdown",
   "metadata": {},
   "source": [
    "#### Exercise 1.42: procedure to compose functions\n",
    "- one-argument functions\n",
    "  - f\n",
    "  - g\n",
    "- composition\n",
    "  - x -> f(g(x))\n"
   ]
  },
  {
   "cell_type": "code",
   "execution_count": 118,
   "metadata": {},
   "outputs": [],
   "source": [
    "(define (compose f g) (lambda (x) (f (g x))))"
   ]
  },
  {
   "cell_type": "code",
   "execution_count": 119,
   "metadata": {},
   "outputs": [
    {
     "data": {
      "text/plain": [
       "49"
      ]
     },
     "execution_count": 119,
     "metadata": {},
     "output_type": "execute_result"
    }
   ],
   "source": [
    "((compose square inc) 6)"
   ]
  },
  {
   "cell_type": "markdown",
   "metadata": {},
   "source": [
    "#### Exercise 1.43: repeated application"
   ]
  },
  {
   "cell_type": "code",
   "execution_count": 174,
   "metadata": {},
   "outputs": [],
   "source": [
    "(define (repeatd f n)\n",
    "  (if (= n 1)\n",
    "      f \n",
    "      ; (compose f (repeatd f (- n 1)))\n",
    "      (lambda (x) (f ((repeatd f (- n 1)) x)))))"
   ]
  },
  {
   "cell_type": "code",
   "execution_count": 175,
   "metadata": {},
   "outputs": [
    {
     "data": {
      "text/plain": [
       "4"
      ]
     },
     "execution_count": 175,
     "metadata": {},
     "output_type": "execute_result"
    }
   ],
   "source": [
    "((repeatd (lambda (x) (+ x 1)) 3) 1)"
   ]
  },
  {
   "cell_type": "markdown",
   "metadata": {},
   "source": [
    "```s\n",
    "((repeatd square 2) 5)\n",
    "```\n",
    "square twice for 5 -> 5^4 = 625"
   ]
  },
  {
   "cell_type": "code",
   "execution_count": 176,
   "metadata": {},
   "outputs": [
    {
     "data": {
      "text/plain": [
       "625"
      ]
     },
     "execution_count": 176,
     "metadata": {},
     "output_type": "execute_result"
    }
   ],
   "source": [
    "((repeatd square 2) 5)"
   ]
  },
  {
   "cell_type": "markdown",
   "metadata": {},
   "source": [
    "#### Exercise 1.44: smoothing a function\n",
    "- f: function\n",
    "- dx: some small number\n",
    "\n",
    "- smoothed version of f\n",
    "  => value at ponit x = average of `f(x - dx)`, `f(x)` and `f(x + dx)`\n",
    "\n",
    "`(define (smmoth f) <smoothed-f>)`"
   ]
  },
  {
   "cell_type": "code",
   "execution_count": 195,
   "metadata": {},
   "outputs": [],
   "source": [
    "(define (smooth f dx)\n",
    "  (lambda (x) \n",
    "    (/ (+ (f (- x dx)) \n",
    "          (f x) \n",
    "          (f (+ x dx)))\n",
    "        3)))"
   ]
  },
  {
   "cell_type": "code",
   "execution_count": 202,
   "metadata": {},
   "outputs": [
    {
     "name": "stdout",
     "output_type": "stream",
     "text": [
      "1.0\n",
      "0.8432281248563256"
     ]
    }
   ],
   "source": [
    "; https://billthelizard.blogspot.com/2010/08/sicp-144-smoothing-function.html\n",
    "(display (math.sin (/ math.pi 2)))\n",
    "(newline)\n",
    "(display ((smooth math.sin 0.7) (/ math.pi 2)))"
   ]
  },
  {
   "cell_type": "code",
   "execution_count": 207,
   "metadata": {},
   "outputs": [],
   "source": [
    "(define (n-fold-smooth f dx n)\n",
    "  (repeatd (smooth f dx) n))"
   ]
  },
  {
   "cell_type": "code",
   "execution_count": 209,
   "metadata": {},
   "outputs": [
    {
     "name": "stdout",
     "output_type": "stream",
     "text": [
      "0.6297176112540722\n",
      "0.4965910037020933\n",
      "0.4017400886852076"
     ]
    }
   ],
   "source": [
    "(display ((n-fold-smooth math.sin 0.7 2) (/ math.pi 2)))\n",
    "(newline)\n",
    "(display ((n-fold-smooth math.sin 0.7 3) (/ math.pi 2)))\n",
    "(newline)\n",
    "(display ((n-fold-smooth math.sin 0.7 4) (/ math.pi 2)))"
   ]
  },
  {
   "cell_type": "markdown",
   "metadata": {},
   "source": [
    "#### Exercise 1.45: \n"
   ]
  },
  {
   "cell_type": "code",
   "execution_count": 210,
   "metadata": {},
   "outputs": [],
   "source": [
    "(define (cube-root x)\n",
    "  (fixed-point (average-damp (lambda (y) (/ x (* y y))))\n",
    "               1.0))"
   ]
  },
  {
   "cell_type": "code",
   "execution_count": 212,
   "metadata": {},
   "outputs": [
    {
     "name": "stdout",
     "output_type": "stream",
     "text": [
      "guess: 1.0\n",
      "guess: 4.5\n",
      "guess: 2.447530864197531\n",
      "guess: 1.8914996576441667\n",
      "guess: 2.0637643832634476\n",
      "guess: 1.9710425766479744\n",
      "guess: 2.0151199754332096\n",
      "guess: 1.992609760395472\n",
      "guess: 2.0037362842809587\n",
      "guess: 1.998142301706526\n",
      "guess: 2.0009314406381735\n",
      "guess: 1.9995349299633447\n",
      "guess: 2.0002326972862416\n",
      "guess: 1.9998836919616\n",
      "guess: 2.0000581641656563\n",
      "guess: 1.999970920454376\n",
      "guess: 2.0000145404070393\n",
      "guess: 1.9999927299550464\n",
      "guess: 2.000003635062117\n"
     ]
    },
    {
     "data": {
      "text/plain": [
       "2.000003635062117"
      ]
     },
     "execution_count": 212,
     "metadata": {},
     "output_type": "execute_result"
    }
   ],
   "source": [
    "(cube-root 8)"
   ]
  },
  {
   "cell_type": "code",
   "execution_count": 214,
   "metadata": {},
   "outputs": [
    {
     "name": "stdout",
     "output_type": "stream",
     "text": [
      "guess: 1.0\n",
      "guess: 63.0\n",
      "guess: 31.51574703955656\n",
      "guess: 15.82079874887776\n",
      "guess: 8.160102055401849\n",
      "guess: 5.018668937288702\n",
      "guess: 4.990769572006499\n",
      "guess: 5.004640837297728\n",
      "guess: 4.997686034575535\n",
      "guess: 5.0011585900348\n",
      "guess: 4.999421107557479\n",
      "guess: 5.00028954677172\n",
      "guess: 4.999855251763398\n",
      "guess: 5.000072380404159\n",
      "guess: 4.999963811369566\n",
      "guess: 5.000018094708105\n",
      "guess: 4.999990952744172\n",
      "guess: 5.0000045236524695\n"
     ]
    },
    {
     "data": {
      "text/plain": [
       "5.0000045236524695"
      ]
     },
     "execution_count": 214,
     "metadata": {},
     "output_type": "execute_result"
    }
   ],
   "source": [
    "(cube-root 125)"
   ]
  },
  {
   "cell_type": "code",
   "execution_count": 215,
   "metadata": {},
   "outputs": [],
   "source": [
    "(define (fourth-root x)\n",
    "  (fixed-point (average-damp (lambda (y) (/ x (* y y y))))\n",
    "               1.0))"
   ]
  },
  {
   "cell_type": "code",
   "execution_count": null,
   "metadata": {},
   "outputs": [],
   "source": [
    "; (fourth-root 16) won't finish"
   ]
  },
  {
   "cell_type": "code",
   "execution_count": 6,
   "metadata": {},
   "outputs": [],
   "source": [
    "(define (fourth-root x)\n",
    "  (fixed-point (average-damp (average-damp (lambda (y) (/ x (* y y y)))))\n",
    "               1.0))"
   ]
  },
  {
   "cell_type": "code",
   "execution_count": 8,
   "metadata": {},
   "outputs": [
    {
     "name": "stdout",
     "output_type": "stream",
     "text": [
      "guess: 1.0\n",
      "guess: 4.75\n",
      "guess: 3.5998232249599065\n",
      "guess: 2.7856139316659103\n",
      "guess: 2.274263910561008\n",
      "guess: 2.045743730517053\n",
      "guess: 2.0015115314098866\n",
      "guess: 2.000001711389449\n"
     ]
    },
    {
     "data": {
      "text/plain": [
       "2.000001711389449"
      ]
     },
     "execution_count": 8,
     "metadata": {},
     "output_type": "execute_result"
    }
   ],
   "source": [
    "; this procedure works because of double? average-damp\n",
    "(fourth-root 16)"
   ]
  },
  {
   "cell_type": "code",
   "execution_count": null,
   "metadata": {},
   "outputs": [],
   "source": []
  }
 ],
 "metadata": {
  "kernelspec": {
   "display_name": "Calysto Scheme 3",
   "language": "scheme",
   "name": "calysto_scheme"
  },
  "language_info": {
   "codemirror_mode": {
    "name": "scheme"
   },
   "mimetype": "text/x-scheme",
   "name": "scheme",
   "pygments_lexer": "scheme"
  },
  "orig_nbformat": 4
 },
 "nbformat": 4,
 "nbformat_minor": 2
}
